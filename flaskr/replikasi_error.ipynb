{
 "cells": [
  {
   "cell_type": "code",
   "execution_count": 7,
   "metadata": {},
   "outputs": [],
   "source": [
    "import requests"
   ]
  },
  {
   "cell_type": "code",
   "execution_count": 26,
   "metadata": {},
   "outputs": [],
   "source": [
    "r = requests.get(\"https://api.themoviedb.org/3/search/movie?api_key=8d5d54aa72351ac3e821515d968260c5&language=en-US&query=Toy%20story&page=1&include_adult=true&year=1995\")"
   ]
  },
  {
   "cell_type": "code",
   "execution_count": 27,
   "metadata": {},
   "outputs": [
    {
     "name": "stdout",
     "output_type": "stream",
     "text": [
      "/uXDfjJbdP4ijW5hWSBrPrlKpxab.jpg\n"
     ]
    }
   ],
   "source": [
    "print(r.json()['results'][0]['poster_path'])"
   ]
  },
  {
   "cell_type": "code",
   "execution_count": 1,
   "metadata": {},
   "outputs": [
    {
     "ename": "NameError",
     "evalue": "name 'db' is not defined",
     "output_type": "error",
     "traceback": [
      "\u001b[1;31m---------------------------------------------------------------------------\u001b[0m",
      "\u001b[1;31mNameError\u001b[0m                                 Traceback (most recent call last)",
      "\u001b[1;32m~\\AppData\\Local\\Temp/ipykernel_9820/2056784994.py\u001b[0m in \u001b[0;36m<module>\u001b[1;34m\u001b[0m\n\u001b[1;32m----> 1\u001b[1;33m \u001b[0mmovies\u001b[0m \u001b[1;33m=\u001b[0m \u001b[0mdb\u001b[0m\u001b[1;33m.\u001b[0m\u001b[0mexecute\u001b[0m\u001b[1;33m(\u001b[0m\u001b[1;34m'SELECT id, title, genres '\u001b[0m\u001b[1;34m'FROM movie '\u001b[0m\u001b[1;34m'EXCEPT '\u001b[0m\u001b[1;34m'SELECT m.id, m.title, m.genres '\u001b[0m\u001b[1;34m'FROM movie m '\u001b[0m\u001b[1;34m'INNER JOIN '\u001b[0m\u001b[1;34m'review r '\u001b[0m\u001b[1;34m'ON r.userID = ? '\u001b[0m\u001b[1;34m'and m.id = r.movieID '\u001b[0m\u001b[1;34m' LIMIT ? OFFSET ?'\u001b[0m\u001b[1;33m,\u001b[0m\u001b[1;33m(\u001b[0m\u001b[0mg\u001b[0m\u001b[1;33m.\u001b[0m\u001b[0muser\u001b[0m\u001b[1;33m[\u001b[0m\u001b[1;34m'id'\u001b[0m\u001b[1;33m]\u001b[0m\u001b[1;33m,\u001b[0m \u001b[1;34m'8'\u001b[0m\u001b[1;33m,\u001b[0m \u001b[0mstr\u001b[0m\u001b[1;33m(\u001b[0m\u001b[1;33m(\u001b[0m\u001b[0mpage\u001b[0m \u001b[1;33m-\u001b[0m \u001b[1;36m1\u001b[0m\u001b[1;33m)\u001b[0m \u001b[1;33m*\u001b[0m \u001b[1;36m8\u001b[0m\u001b[1;33m)\u001b[0m\u001b[1;33m,\u001b[0m \u001b[1;33m)\u001b[0m\u001b[1;33m)\u001b[0m\u001b[1;33m.\u001b[0m\u001b[0mfetchall\u001b[0m\u001b[1;33m(\u001b[0m\u001b[1;33m)\u001b[0m\u001b[1;33m\u001b[0m\u001b[1;33m\u001b[0m\u001b[0m\n\u001b[0m",
      "\u001b[1;31mNameError\u001b[0m: name 'db' is not defined"
     ]
    }
   ],
   "source": [
    "movies = db.execute('SELECT id, title, genres ''FROM movie ''EXCEPT ''SELECT m.id, m.title, m.genres ''FROM movie m ''INNER JOIN ''review r ''ON r.userID = ? ''and m.id = r.movieID '' LIMIT ? OFFSET ?',(g.user['id'], '8', str((page - 1) * 8), )).fetchall()"
   ]
  },
  {
   "cell_type": "code",
   "execution_count": 33,
   "metadata": {},
   "outputs": [
    {
     "data": {
      "text/plain": [
       "'24'"
      ]
     },
     "execution_count": 33,
     "metadata": {},
     "output_type": "execute_result"
    }
   ],
   "source": [
    "page=4\n",
    "str((page - 1) * 8)"
   ]
  },
  {
   "cell_type": "code",
   "execution_count": 2,
   "metadata": {},
   "outputs": [
    {
     "ename": "NameError",
     "evalue": "name 'requests' is not defined",
     "output_type": "error",
     "traceback": [
      "\u001b[1;31m---------------------------------------------------------------------------\u001b[0m",
      "\u001b[1;31mNameError\u001b[0m                                 Traceback (most recent call last)",
      "\u001b[1;32m~\\AppData\\Local\\Temp/ipykernel_9820/3301154971.py\u001b[0m in \u001b[0;36m<module>\u001b[1;34m\u001b[0m\n\u001b[0;32m     14\u001b[0m     \u001b[0mactual_title\u001b[0m \u001b[1;33m=\u001b[0m \u001b[0mactual_title\u001b[0m\u001b[1;33m.\u001b[0m\u001b[0mreplace\u001b[0m\u001b[1;33m(\u001b[0m\u001b[1;34m' '\u001b[0m\u001b[1;33m,\u001b[0m \u001b[1;34m'&'\u001b[0m\u001b[1;33m)\u001b[0m\u001b[1;33m\u001b[0m\u001b[1;33m\u001b[0m\u001b[0m\n\u001b[0;32m     15\u001b[0m     \u001b[0mdata\u001b[0m \u001b[1;33m=\u001b[0m \u001b[0mtitle\u001b[0m\u001b[1;33m[\u001b[0m\u001b[1;36m1\u001b[0m\u001b[1;33m]\u001b[0m\u001b[1;33m[\u001b[0m\u001b[1;33m:\u001b[0m\u001b[1;33m-\u001b[0m\u001b[1;36m1\u001b[0m\u001b[1;33m]\u001b[0m\u001b[1;33m\u001b[0m\u001b[1;33m\u001b[0m\u001b[0m\n\u001b[1;32m---> 16\u001b[1;33m     \u001b[0mr\u001b[0m \u001b[1;33m=\u001b[0m \u001b[0mrequests\u001b[0m\u001b[1;33m.\u001b[0m\u001b[0mget\u001b[0m\u001b[1;33m(\u001b[0m\u001b[1;34m\"https://api.themoviedb.org/3/search/movie?api_key=8d5d54aa72351ac3e821515d968260c5&language=en-US&query=\"\u001b[0m \u001b[1;33m+\u001b[0m \u001b[0mactual_title\u001b[0m \u001b[1;33m+\u001b[0m \u001b[1;34m\"&page=1&include_adult=true&year=\"\u001b[0m \u001b[1;33m+\u001b[0m \u001b[0mdata\u001b[0m\u001b[1;33m)\u001b[0m\u001b[1;33m\u001b[0m\u001b[1;33m\u001b[0m\u001b[0m\n\u001b[0m\u001b[0;32m     17\u001b[0m \u001b[1;33m\u001b[0m\u001b[0m\n\u001b[0;32m     18\u001b[0m     \u001b[0mposter_path\u001b[0m \u001b[1;33m=\u001b[0m \u001b[0mr\u001b[0m\u001b[1;33m.\u001b[0m\u001b[0mjson\u001b[0m\u001b[1;33m(\u001b[0m\u001b[1;33m)\u001b[0m\u001b[1;33m[\u001b[0m\u001b[1;34m'results'\u001b[0m\u001b[1;33m]\u001b[0m\u001b[1;33m[\u001b[0m\u001b[1;36m0\u001b[0m\u001b[1;33m]\u001b[0m\u001b[1;33m[\u001b[0m\u001b[1;34m'poster_path'\u001b[0m\u001b[1;33m]\u001b[0m\u001b[1;33m\u001b[0m\u001b[1;33m\u001b[0m\u001b[0m\n",
      "\u001b[1;31mNameError\u001b[0m: name 'requests' is not defined"
     ]
    }
   ],
   "source": [
    "\n",
    "movies = ('Tom and Huck (1995)',\n",
    "'GoldenEye (1995)',\n",
    "'American President, The (1995)',\n",
    "'Dracula: Dead and Loving It (1995)',\n",
    "'Balto (1995)',\n",
    "'Nixon (1995)',\n",
    "'Cutthroat Island (1995)',\n",
    "'Casino (1995)')\n",
    "images=[]\n",
    "for movie in movies:\n",
    "    title = movie\n",
    "    title = title.split('(')\n",
    "    actual_title = title[0].rstrip()\n",
    "    actual_title = actual_title.replace(' ', '&')\n",
    "    data = title[1][:-1]\n",
    "    r = requests.get(\"https://api.themoviedb.org/3/search/movie?api_key=8d5d54aa72351ac3e821515d968260c5&language=en-US&query=\" + actual_title + \"&page=1&include_adult=true&year=\" + data)\n",
    "\n",
    "    poster_path = r.json()['results'][0]['poster_path']\n",
    "    poster_path = 'https://image.tmdb.org/t/p/w500' + poster_path\n",
    "    images.append(poster_path)\n",
    "\n",
    "listas = zip(movies, images)"
   ]
  },
  {
   "cell_type": "code",
   "execution_count": 69,
   "metadata": {},
   "outputs": [],
   "source": [
    "title = movie\n",
    "title = title.split('(')\n",
    "actual_title = title[0].rstrip()\n",
    "actual_title = actual_title.replace(' ', '&')\n",
    "data = title[1][:-1]\n"
   ]
  },
  {
   "cell_type": "code",
   "execution_count": 67,
   "metadata": {},
   "outputs": [],
   "source": [
    "actual_title\n",
    "actual_title = actual_title.replace(' ', '&')"
   ]
  },
  {
   "cell_type": "code",
   "execution_count": 70,
   "metadata": {},
   "outputs": [
    {
     "data": {
      "text/plain": [
       "'American&President,&The'"
      ]
     },
     "execution_count": 70,
     "metadata": {},
     "output_type": "execute_result"
    }
   ],
   "source": [
    "actual_title"
   ]
  },
  {
   "cell_type": "code",
   "execution_count": 52,
   "metadata": {},
   "outputs": [
    {
     "data": {
      "text/plain": [
       "<Response [200]>"
      ]
     },
     "execution_count": 52,
     "metadata": {},
     "output_type": "execute_result"
    }
   ],
   "source": [
    "data"
   ]
  },
  {
   "cell_type": "code",
   "execution_count": 50,
   "metadata": {},
   "outputs": [],
   "source": [
    "poster_path = r.json()"
   ]
  },
  {
   "cell_type": "code",
   "execution_count": 51,
   "metadata": {},
   "outputs": [
    {
     "data": {
      "text/plain": [
       "{'page': 1, 'results': [], 'total_pages': 0, 'total_results': 0}"
      ]
     },
     "execution_count": 51,
     "metadata": {},
     "output_type": "execute_result"
    }
   ],
   "source": [
    "poster_path"
   ]
  },
  {
   "cell_type": "code",
   "execution_count": 15,
   "metadata": {},
   "outputs": [],
   "source": [
    "import sqlite3\n",
    "import pandas as pd\n",
    "con = sqlite3.connect(\"E:/Movie-Recommender-master/Movie-Recommender-master - Copy/instance/new.db\")\n"
   ]
  },
  {
   "cell_type": "code",
   "execution_count": 21,
   "metadata": {},
   "outputs": [
    {
     "data": {
      "text/html": [
       "<div>\n",
       "<style scoped>\n",
       "    .dataframe tbody tr th:only-of-type {\n",
       "        vertical-align: middle;\n",
       "    }\n",
       "\n",
       "    .dataframe tbody tr th {\n",
       "        vertical-align: top;\n",
       "    }\n",
       "\n",
       "    .dataframe thead th {\n",
       "        text-align: right;\n",
       "    }\n",
       "</style>\n",
       "<table border=\"1\" class=\"dataframe\">\n",
       "  <thead>\n",
       "    <tr style=\"text-align: right;\">\n",
       "      <th></th>\n",
       "      <th>id</th>\n",
       "      <th>title</th>\n",
       "      <th>genres</th>\n",
       "      <th>poster</th>\n",
       "      <th>rating</th>\n",
       "    </tr>\n",
       "  </thead>\n",
       "  <tbody>\n",
       "    <tr>\n",
       "      <th>0</th>\n",
       "      <td>163</td>\n",
       "      <td>Desperado (1995)</td>\n",
       "      <td>Action|Romance|Western</td>\n",
       "      <td>https://image.tmdb.org/t/p/w500/e3gwpBeXpvGZsx...</td>\n",
       "      <td>5.0</td>\n",
       "    </tr>\n",
       "    <tr>\n",
       "      <th>1</th>\n",
       "      <td>216</td>\n",
       "      <td>Billy Madison (1995)</td>\n",
       "      <td>Comedy</td>\n",
       "      <td>https://image.tmdb.org/t/p/w500/1XV42Zu9taxluI...</td>\n",
       "      <td>5.0</td>\n",
       "    </tr>\n",
       "    <tr>\n",
       "      <th>2</th>\n",
       "      <td>223</td>\n",
       "      <td>Clerks (1994)</td>\n",
       "      <td>Comedy</td>\n",
       "      <td>https://image.tmdb.org/t/p/w500/zeFhNF0SXlYIvW...</td>\n",
       "      <td>3.0</td>\n",
       "    </tr>\n",
       "    <tr>\n",
       "      <th>3</th>\n",
       "      <td>231</td>\n",
       "      <td>Dumb &amp; Dumber (Dumb and Dumber) (1994)</td>\n",
       "      <td>Adventure|Comedy</td>\n",
       "      <td>https://image.tmdb.org/t/p/w500/4LdpBXiCyGKkR8...</td>\n",
       "      <td>5.0</td>\n",
       "    </tr>\n",
       "    <tr>\n",
       "      <th>4</th>\n",
       "      <td>235</td>\n",
       "      <td>Ed Wood (1994)</td>\n",
       "      <td>Comedy|Drama</td>\n",
       "      <td>https://image.tmdb.org/t/p/w500/A5NCOebgzXe0jP...</td>\n",
       "      <td>4.0</td>\n",
       "    </tr>\n",
       "    <tr>\n",
       "      <th>5</th>\n",
       "      <td>260</td>\n",
       "      <td>Star Wars: Episode IV - A New Hope (1977)</td>\n",
       "      <td>Action|Adventure|Sci-Fi</td>\n",
       "      <td>https://image.tmdb.org/t/p/w500/6FfCtAuVAW8XJj...</td>\n",
       "      <td>5.0</td>\n",
       "    </tr>\n",
       "    <tr>\n",
       "      <th>6</th>\n",
       "      <td>296</td>\n",
       "      <td>Pulp Fiction (1994)</td>\n",
       "      <td>Comedy|Crime|Drama|Thriller</td>\n",
       "      <td>https://image.tmdb.org/t/p/w500/fIE3lAGcZDV1G6...</td>\n",
       "      <td>3.0</td>\n",
       "    </tr>\n",
       "    <tr>\n",
       "      <th>7</th>\n",
       "      <td>316</td>\n",
       "      <td>Stargate (1994)</td>\n",
       "      <td>Action|Adventure|Sci-Fi</td>\n",
       "      <td>https://image.tmdb.org/t/p/w500/5TE3obJopSD9lW...</td>\n",
       "      <td>3.0</td>\n",
       "    </tr>\n",
       "  </tbody>\n",
       "</table>\n",
       "</div>"
      ],
      "text/plain": [
       "    id                                      title  \\\n",
       "0  163                           Desperado (1995)   \n",
       "1  216                       Billy Madison (1995)   \n",
       "2  223                              Clerks (1994)   \n",
       "3  231     Dumb & Dumber (Dumb and Dumber) (1994)   \n",
       "4  235                             Ed Wood (1994)   \n",
       "5  260  Star Wars: Episode IV - A New Hope (1977)   \n",
       "6  296                        Pulp Fiction (1994)   \n",
       "7  316                            Stargate (1994)   \n",
       "\n",
       "                        genres  \\\n",
       "0       Action|Romance|Western   \n",
       "1                       Comedy   \n",
       "2                       Comedy   \n",
       "3             Adventure|Comedy   \n",
       "4                 Comedy|Drama   \n",
       "5      Action|Adventure|Sci-Fi   \n",
       "6  Comedy|Crime|Drama|Thriller   \n",
       "7      Action|Adventure|Sci-Fi   \n",
       "\n",
       "                                              poster  rating  \n",
       "0  https://image.tmdb.org/t/p/w500/e3gwpBeXpvGZsx...     5.0  \n",
       "1  https://image.tmdb.org/t/p/w500/1XV42Zu9taxluI...     5.0  \n",
       "2  https://image.tmdb.org/t/p/w500/zeFhNF0SXlYIvW...     3.0  \n",
       "3  https://image.tmdb.org/t/p/w500/4LdpBXiCyGKkR8...     5.0  \n",
       "4  https://image.tmdb.org/t/p/w500/A5NCOebgzXe0jP...     4.0  \n",
       "5  https://image.tmdb.org/t/p/w500/6FfCtAuVAW8XJj...     5.0  \n",
       "6  https://image.tmdb.org/t/p/w500/fIE3lAGcZDV1G6...     3.0  \n",
       "7  https://image.tmdb.org/t/p/w500/5TE3obJopSD9lW...     3.0  "
      ]
     },
     "execution_count": 21,
     "metadata": {},
     "output_type": "execute_result"
    }
   ],
   "source": [
    "#blog.py\n",
    "test=pd.read_sql_query('SELECT m.id, m.title, m.genres, m.poster, r.rating '\n",
    "                  'FROM movies m '\n",
    "                  'INNER JOIN '\n",
    "                  'ratings r '\n",
    "                  'ON r.userID = 1 '\n",
    "                  'and m.id = r.movieID '\n",
    "                  'LIMIT 8 OFFSET 8', con)\n",
    "test"
   ]
  },
  {
   "cell_type": "code",
   "execution_count": 25,
   "metadata": {},
   "outputs": [],
   "source": [
    "images=test['poster'].to_list()"
   ]
  },
  {
   "cell_type": "code",
   "execution_count": 26,
   "metadata": {},
   "outputs": [],
   "source": [
    "listas = zip(test, images)"
   ]
  },
  {
   "cell_type": "code",
   "execution_count": 29,
   "metadata": {},
   "outputs": [
    {
     "data": {
      "text/plain": [
       "<zip at 0x20c6745d940>"
      ]
     },
     "execution_count": 29,
     "metadata": {},
     "output_type": "execute_result"
    }
   ],
   "source": [
    "listas"
   ]
  },
  {
   "cell_type": "code",
   "execution_count": 45,
   "metadata": {},
   "outputs": [
    {
     "data": {
      "text/plain": [
       "'images = []\\n\\nfor movie in ratings:\\n    title = movie[\\'title\\']\\n    title = title.split(\\'(\\')\\n    actual_title = title[0].rstrip()\\n    data = title[1][:-1]\\n    r = requests.get(\"https://api.themoviedb.org/3/search/movie?api_key=8d5d54aa72351ac3e821515d968260c5&language=en-US&query=\" + actual_title + \"&page=1&include_adult=true&year=\" + data)\\n\\n    poster_path = r.json()[\\'results\\'][0][\\'poster_path\\']\\n    poster_path = \\'https://image.tmdb.org/t/p/w500\\' + poster_path\\n\\n    images.append(poster_path)\\n\\nlistas = zip(ratings, images)'"
      ]
     },
     "execution_count": 45,
     "metadata": {},
     "output_type": "execute_result"
    }
   ],
   "source": [
    "db = sqlite3.connect(\"E:/Movie-Recommender-master/Movie-Recommender-master - Copy/instance/new.db\")\n",
    "ratings = db.execute('SELECT m.id, m.title, m.genres, m.poster, r.rating '\n",
    "                  'FROM movies m '\n",
    "                  'INNER JOIN '\n",
    "                  'ratings r '\n",
    "                  'ON r.userID = 1 '\n",
    "                  'and m.id = r.movieID '\n",
    "                  'LIMIT 8 OFFSET 8',).fetchall()\n",
    "\n",
    "'''images = []\n",
    "\n",
    "for movie in ratings:\n",
    "    title = movie['title']\n",
    "    title = title.split('(')\n",
    "    actual_title = title[0].rstrip()\n",
    "    data = title[1][:-1]\n",
    "    r = requests.get(\"https://api.themoviedb.org/3/search/movie?api_key=8d5d54aa72351ac3e821515d968260c5&language=en-US&query=\" + actual_title + \"&page=1&include_adult=true&year=\" + data)\n",
    "\n",
    "    poster_path = r.json()['results'][0]['poster_path']\n",
    "    poster_path = 'https://image.tmdb.org/t/p/w500' + poster_path\n",
    "\n",
    "    images.append(poster_path)\n",
    "\n",
    "listas = zip(ratings, images)'''"
   ]
  },
  {
   "cell_type": "code",
   "execution_count": 52,
   "metadata": {},
   "outputs": [
    {
     "data": {
      "text/plain": [
       "'https://image.tmdb.org/t/p/w500/e3gwpBeXpvGZsxUya9zNym5QXrw.jpg'"
      ]
     },
     "execution_count": 52,
     "metadata": {},
     "output_type": "execute_result"
    }
   ],
   "source": [
    "ratings[0][3]"
   ]
  },
  {
   "cell_type": "code",
   "execution_count": 57,
   "metadata": {},
   "outputs": [
    {
     "data": {
      "text/plain": [
       "['https://image.tmdb.org/t/p/w500/e3gwpBeXpvGZsxUya9zNym5QXrw.jpg',\n",
       " 'https://image.tmdb.org/t/p/w500/1XV42Zu9taxluIKXMeV9OSpYCSq.jpg',\n",
       " 'https://image.tmdb.org/t/p/w500/zeFhNF0SXlYIvWXpaOLuXVQ3jB4.jpg',\n",
       " 'https://image.tmdb.org/t/p/w500/4LdpBXiCyGKkR8FGHgjKlphrfUc.jpg',\n",
       " 'https://image.tmdb.org/t/p/w500/A5NCOebgzXe0jPzh0mbXRWLZNr5.jpg',\n",
       " 'https://image.tmdb.org/t/p/w500/6FfCtAuVAW8XJjZ7eWeLibRLWTw.jpg',\n",
       " 'https://image.tmdb.org/t/p/w500/fIE3lAGcZDV1G6XM5KmuWnNsPp1.jpg',\n",
       " 'https://image.tmdb.org/t/p/w500/5TE3obJopSD9lWCa6rqF2E4Oda7.jpg']"
      ]
     },
     "execution_count": 57,
     "metadata": {},
     "output_type": "execute_result"
    }
   ],
   "source": [
    "images = list(map(lambda poster: poster[3], ratings))"
   ]
  },
  {
   "cell_type": "code",
   "execution_count": 44,
   "metadata": {},
   "outputs": [
    {
     "ename": "TypeError",
     "evalue": "tuple indices must be integers or slices, not str",
     "output_type": "error",
     "traceback": [
      "\u001b[1;31m---------------------------------------------------------------------------\u001b[0m",
      "\u001b[1;31mTypeError\u001b[0m                                 Traceback (most recent call last)",
      "\u001b[1;32m~\\AppData\\Local\\Temp/ipykernel_6312/109810189.py\u001b[0m in \u001b[0;36m<module>\u001b[1;34m\u001b[0m\n\u001b[0;32m      2\u001b[0m \u001b[1;33m\u001b[0m\u001b[0m\n\u001b[0;32m      3\u001b[0m \u001b[1;32mfor\u001b[0m \u001b[0mmovie\u001b[0m \u001b[1;32min\u001b[0m \u001b[0mratings\u001b[0m\u001b[1;33m:\u001b[0m\u001b[1;33m\u001b[0m\u001b[1;33m\u001b[0m\u001b[0m\n\u001b[1;32m----> 4\u001b[1;33m     \u001b[0mtitle\u001b[0m \u001b[1;33m=\u001b[0m \u001b[0mmovie\u001b[0m\u001b[1;33m[\u001b[0m\u001b[1;34m'title'\u001b[0m\u001b[1;33m]\u001b[0m\u001b[1;33m\u001b[0m\u001b[1;33m\u001b[0m\u001b[0m\n\u001b[0m\u001b[0;32m      5\u001b[0m     \u001b[0mtitle\u001b[0m \u001b[1;33m=\u001b[0m \u001b[0mtitle\u001b[0m\u001b[1;33m.\u001b[0m\u001b[0msplit\u001b[0m\u001b[1;33m(\u001b[0m\u001b[1;34m'('\u001b[0m\u001b[1;33m)\u001b[0m\u001b[1;33m\u001b[0m\u001b[1;33m\u001b[0m\u001b[0m\n\u001b[0;32m      6\u001b[0m     \u001b[0mactual_title\u001b[0m \u001b[1;33m=\u001b[0m \u001b[0mtitle\u001b[0m\u001b[1;33m[\u001b[0m\u001b[1;36m0\u001b[0m\u001b[1;33m]\u001b[0m\u001b[1;33m.\u001b[0m\u001b[0mrstrip\u001b[0m\u001b[1;33m(\u001b[0m\u001b[1;33m)\u001b[0m\u001b[1;33m\u001b[0m\u001b[1;33m\u001b[0m\u001b[0m\n",
      "\u001b[1;31mTypeError\u001b[0m: tuple indices must be integers or slices, not str"
     ]
    }
   ],
   "source": [
    "images = []\n",
    "\n",
    "for movie in ratings:\n",
    "    title = movie['title']\n",
    "    title = title.split('(')\n",
    "    actual_title = title[0].rstrip()\n",
    "    data = title[1][:-1]\n",
    "    r = requests.get(\"https://api.themoviedb.org/3/search/movie?api_key=8d5d54aa72351ac3e821515d968260c5&language=en-US&query=\" + actual_title + \"&page=1&include_adult=true&year=\" + data)\n",
    "\n",
    "    poster_path = r.json()['results'][0]['poster_path']\n",
    "    poster_path = 'https://image.tmdb.org/t/p/w500' + poster_path\n",
    "\n",
    "    images.append(poster_path)"
   ]
  },
  {
   "cell_type": "code",
   "execution_count": 5,
   "metadata": {},
   "outputs": [],
   "source": [
    "from matplotlib import image\n",
    "from sklearn.decomposition import TruncatedSVD\n",
    "\n",
    "from scipy.sparse.linalg import svds\n",
    "import sqlite3\n",
    "import pandas as pd\n",
    "import numpy as np\n",
    "import requests\n",
    "\n",
    "def reccomend_movies(user):\n",
    "    page=1\n",
    "    db = sqlite3.connect(\"E:/Movie-Recommender-master/Item-Based Collaborative filtering fix/instance/flaskr.sqlite\")\n",
    "    ratings = pd.read_sql_query('SELECT userId, movieId, rating FROM ratings',db)\n",
    "    ratings.columns = ['USERID', 'MOVIEID', 'RATING']\n",
    "    #Ambil data movies dari sqlite dengan querry \"SELECT * FROM review\" dan simpan ke pandas dataframe\n",
    "    movies = pd.read_sql_query('SELECT * FROM movies', db)\n",
    "    movies.columns = ['MOVIEID', 'TITLE', 'GENRES', 'POSTER']\n",
    "\n",
    "    combined_movies_data = pd.merge(ratings, movies, how='inner', on='MOVIEID')#merge data rating dan data movie pada movieId\n",
    "    #Buat pivot table untuk rating menggunakan userId sebagai index dan movieId sebagai kolom\n",
    "    rating_crosstab = combined_movies_data.pivot_table(index='USERID', columns='MOVIEID', values='RATING').fillna(0)\n",
    "    #lakukan transpose dan dimesionality reduction dengan menggunakan fungsi SVD ke tabel pivot yang telah dibuat\n",
    "    X = rating_crosstab.T\n",
    "    SVD = TruncatedSVD(n_components=12, random_state=5)\n",
    "    resultant_matrix = SVD.fit_transform(X)\n",
    "\n",
    "    #cari korelasi antar film menggunakan pearson correlation menggunakan fungsi corrcoef pada library numpy\n",
    "    corr_mat = np.corrcoef(resultant_matrix)\n",
    "    corr_mat = pd.DataFrame(corr_mat, columns = rating_crosstab.columns.tolist(), index = rating_crosstab.columns.tolist())\n",
    "    #cari data user yang akan diberi rekomendasi berdasarkan rating film tertinggi yang diberikan \n",
    "    userId=user\n",
    "    unrated=X[userId].loc[X[userId]==0]\n",
    "    rated=X[userId].loc[X[userId]>0]\n",
    "    #buat pivot table dengan menggunakan movieId yang sudah dirating sebagai kolom dan movieId yang belum dirating sebagai index\n",
    "    r_ur_corr_matt=corr_mat[rated.index].loc[unrated.index]\\\n",
    "                .apply(lambda x: x.nlargest(5), axis=1).fillna(0)#cari nilai similarity pada 10 item yang sudah \n",
    "\n",
    "    simlilarity_dot_weight=r_ur_corr_matt.apply(lambda x: sum(x*rated), axis=1)\n",
    "    simlilarity_sum=r_ur_corr_matt.apply(np.sum, axis=1)\n",
    "    pred=(simlilarity_dot_weight/simlilarity_sum).sort_values(ascending=False)\n",
    "    reccomendation=pd.concat([movies.set_index('MOVIEID'), pred], axis=1).sort_values(by=0, ascending=False)\n",
    "    movies=reccomendation[page * 8: page * 8 + 8]\n",
    "    images=movies['POSTER'].tolist()\n",
    "    return reccomendation"
   ]
  },
  {
   "cell_type": "code",
   "execution_count": 1,
   "metadata": {},
   "outputs": [],
   "source": [
    "from matplotlib import image\n",
    "from sklearn.decomposition import TruncatedSVD\n",
    "\n",
    "from scipy.sparse.linalg import svds\n",
    "import sqlite3\n",
    "import pandas as pd\n",
    "import numpy as np\n",
    "import requests\n",
    "page=1\n",
    "user=610\n",
    "db = sqlite3.connect(\"E:/Movie-Recommender-master/Item-Based Collaborative filtering fix/instance/flaskr.sqlite\")\n",
    "pd.read_sql_query('SELECT * from users',db)\n",
    "ratings = pd.read_sql_query('SELECT userId, movieId, rating FROM ratings',db)\n",
    "ratings.columns = ['USERID', 'MOVIEID', 'RATING']\n",
    "#Ambil data movies dari sqlite dengan querry \"SELECT * FROM review\" dan simpan ke pandas dataframe\n",
    "movies = pd.read_sql_query('SELECT * FROM movies', db)\n",
    "movies.columns = ['MOVIEID', 'TITLE', 'GENRES', 'POSTER']\n",
    "try:\n",
    "    combined_movies_data = pd.merge(ratings, movies, how='inner', on='MOVIEID')#merge data rating dan data movie pada movieId\n",
    "    #Buat pivot table untuk rating menggunakan userId sebagai index dan movieId sebagai kolom\n",
    "    rating_crosstab = combined_movies_data.pivot_table(index='USERID', columns='MOVIEID', values='RATING').fillna(0)\n",
    "    #lakukan transpose dan dimesionality reduction dengan menggunakan fungsi SVD ke tabel pivot yang telah dibuat\n",
    "    X = rating_crosstab.T\n",
    "    SVD = TruncatedSVD(n_components=12, random_state=5)\n",
    "    resultant_matrix = SVD.fit_transform(X)\n",
    "\n",
    "    #cari korelasi antar film menggunakan pearson correlation menggunakan fungsi corrcoef pada library numpy\n",
    "    corr_mat = np.corrcoef(resultant_matrix)\n",
    "    corr_mat = pd.DataFrame(corr_mat, columns = rating_crosstab.columns.tolist(), index = rating_crosstab.columns.tolist())\n",
    "    #cari data user yang akan diberi rekomendasi berdasarkan rating film tertinggi yang diberikan \n",
    "    userId=user\n",
    "    unrated=X[userId].loc[X[userId]==0]\n",
    "    rated=X[userId].loc[X[userId]>0]\n",
    "except:\n",
    "    reccomendation=movies\n"
   ]
  },
  {
   "cell_type": "code",
   "execution_count": 6,
   "metadata": {},
   "outputs": [],
   "source": [
    "page=1\n",
    "from matplotlib import image\n",
    "from sklearn.decomposition import TruncatedSVD\n",
    "\n",
    "from scipy.sparse.linalg import svds\n",
    "import sqlite3\n",
    "import pandas as pd\n",
    "import numpy as np\n",
    "import requests\n",
    "def rrrr():\n",
    "    user=611\n",
    "    db = sqlite3.connect(\"E:/Movie-Recommender-master/Item-Based Collaborative filtering fix/instance/flaskr.sqlite\")\n",
    "    #Ambil data ratings dari sqlite dengan querry \"SELECT * FROM review\" dan simpan ke pandas dataframe\n",
    "    ratings = pd.read_sql_query('SELECT userId, movieId, rating FROM ratings',db)\n",
    "    ratings.columns = ['USERID', 'MOVIEID', 'RATING']\n",
    "    #Ambil data movies dari sqlite dengan querry \"SELECT * FROM review\" dan simpan ke pandas dataframe\n",
    "    movies = pd.read_sql_query('SELECT * FROM movies', db)\n",
    "    movies.columns = ['MOVIEID', 'TITLE', 'GENRES', 'POSTER']\n",
    "\n",
    "    num_rated = len(db.execute(\n",
    "        'SELECT m.id, m.title, m.genres, m.poster, r.rating '\n",
    "        'FROM movies m '\n",
    "        'INNER JOIN '\n",
    "        'ratings r '\n",
    "        'ON r.userID = '+str(user)+' '\n",
    "        'and m.id = r.movieID '\n",
    "        'LIMIT 15').fetchall())\n",
    "\n",
    "    combined_movies_data = pd.merge(ratings, movies, how='inner', on='MOVIEID')#merge data rating dan data movie pada movieId\n",
    "    #Buat pivot table untuk rating menggunakan userId sebagai index dan movieId sebagai kolom\n",
    "    rating_crosstab = combined_movies_data.pivot_table(index='USERID', columns='MOVIEID', values='RATING').fillna(0)\n",
    "    #lakukan transpose dan dimesionality reduction dengan menggunakan fungsi SVD ke tabel pivot yang telah dibuat\n",
    "    X = rating_crosstab.T\n",
    "    SVD = TruncatedSVD(n_components=12, random_state=5)\n",
    "    resultant_matrix = SVD.fit_transform(X)\n",
    "\n",
    "    #cari korelasi antar film menggunakan pearson correlation menggunakan fungsi corrcoef pada library numpy\n",
    "    corr_mat = np.corrcoef(resultant_matrix)\n",
    "    corr_mat = pd.DataFrame(corr_mat, columns = rating_crosstab.columns.tolist(), index = rating_crosstab.columns.tolist())\n",
    "    #cari data user yang akan diberi rekomendasi berdasarkan rating film tertinggi yang diberikan \n",
    "    userId = user\n",
    "    unrated=X[userId].loc[X[userId]==0]\n",
    "    rated=X[userId].loc[X[userId]>0]\n",
    "    #buat pivot table dengan menggunakan movieId yang sudah dirating sebagai kolom dan movieId yang belum dirating sebagai index\n",
    "    r_ur_corr_matt=corr_mat[rated.index].loc[unrated.index]\\\n",
    "                .apply(lambda x: x.nlargest(5), axis=1).fillna(0)#cari nilai similarity pada 10 item yang sudah \n",
    "    simlilarity_dot_weight=r_ur_corr_matt.apply(lambda x: sum((x*rated).fillna(0)), axis=1)\n",
    "    simlilarity_sum=r_ur_corr_matt.apply(np.sum, axis=1)\n",
    "    pred=(simlilarity_dot_weight/simlilarity_sum).sort_values(ascending=False)\n",
    "    reccomendation=pd.concat([movies.set_index('MOVIEID'), pred], axis=1).sort_values(by=0, ascending=False)\n",
    "    reccomendation.columns = ['title', 'genres', 'poster', 'pred_rating']\n",
    "    reccomendation=reccomendation.rename_axis('id')\n",
    "    return reccomendation\n"
   ]
  },
  {
   "cell_type": "code",
   "execution_count": 7,
   "metadata": {},
   "outputs": [],
   "source": [
    "reccomendation=rrrr()\n"
   ]
  },
  {
   "cell_type": "code",
   "execution_count": 8,
   "metadata": {},
   "outputs": [
    {
     "data": {
      "text/html": [
       "<div>\n",
       "<style scoped>\n",
       "    .dataframe tbody tr th:only-of-type {\n",
       "        vertical-align: middle;\n",
       "    }\n",
       "\n",
       "    .dataframe tbody tr th {\n",
       "        vertical-align: top;\n",
       "    }\n",
       "\n",
       "    .dataframe thead th {\n",
       "        text-align: right;\n",
       "    }\n",
       "</style>\n",
       "<table border=\"1\" class=\"dataframe\">\n",
       "  <thead>\n",
       "    <tr style=\"text-align: right;\">\n",
       "      <th></th>\n",
       "      <th>title</th>\n",
       "      <th>genres</th>\n",
       "      <th>poster</th>\n",
       "      <th>pred_rating</th>\n",
       "    </tr>\n",
       "    <tr>\n",
       "      <th>id</th>\n",
       "      <th></th>\n",
       "      <th></th>\n",
       "      <th></th>\n",
       "      <th></th>\n",
       "    </tr>\n",
       "  </thead>\n",
       "  <tbody>\n",
       "    <tr>\n",
       "      <th>168712</th>\n",
       "      <td>Fifty Shades Darker (2017)</td>\n",
       "      <td>Drama|Romance</td>\n",
       "      <td>https://image.tmdb.org/t/p/w500/7CBO9GhsUeMSsW...</td>\n",
       "      <td>12.940028</td>\n",
       "    </tr>\n",
       "    <tr>\n",
       "      <th>1477</th>\n",
       "      <td>Love Jones (1997)</td>\n",
       "      <td>Romance</td>\n",
       "      <td>https://image.tmdb.org/t/p/w500/7LdKsfON12uEyD...</td>\n",
       "      <td>12.940028</td>\n",
       "    </tr>\n",
       "    <tr>\n",
       "      <th>2538</th>\n",
       "      <td>Dancemaker (1998)</td>\n",
       "      <td>Documentary</td>\n",
       "      <td>Not_found</td>\n",
       "      <td>5.941765</td>\n",
       "    </tr>\n",
       "    <tr>\n",
       "      <th>2623</th>\n",
       "      <td>Trippin' (1999)</td>\n",
       "      <td>Comedy</td>\n",
       "      <td>https://image.tmdb.org/t/p/w500/83I7V7uLTPoUYK...</td>\n",
       "      <td>5.941765</td>\n",
       "    </tr>\n",
       "    <tr>\n",
       "      <th>4466</th>\n",
       "      <td>Above the Law (1988)</td>\n",
       "      <td>Action|Crime|Drama</td>\n",
       "      <td>https://image.tmdb.org/t/p/w500/20bD11jTM2fbVG...</td>\n",
       "      <td>5.336452</td>\n",
       "    </tr>\n",
       "    <tr>\n",
       "      <th>...</th>\n",
       "      <td>...</td>\n",
       "      <td>...</td>\n",
       "      <td>...</td>\n",
       "      <td>...</td>\n",
       "    </tr>\n",
       "    <tr>\n",
       "      <th>114554</th>\n",
       "      <td>Tale of Princess Kaguya, The (Kaguyahime no mo...</td>\n",
       "      <td>Animation|Drama|Fantasy</td>\n",
       "      <td>https://image.tmdb.org/t/p/w500/mWRQNlWXYYfd2z...</td>\n",
       "      <td>NaN</td>\n",
       "    </tr>\n",
       "    <tr>\n",
       "      <th>122892</th>\n",
       "      <td>Avengers: Age of Ultron (2015)</td>\n",
       "      <td>Action|Adventure|Sci-Fi</td>\n",
       "      <td>https://image.tmdb.org/t/p/w500/4ssDuvEDkSArWE...</td>\n",
       "      <td>NaN</td>\n",
       "    </tr>\n",
       "    <tr>\n",
       "      <th>122912</th>\n",
       "      <td>Avengers: Infinity War - Part I (2018)</td>\n",
       "      <td>Action|Adventure|Sci-Fi</td>\n",
       "      <td>https://image.tmdb.org/t/p/w500/7WsyChQLEftFiD...</td>\n",
       "      <td>NaN</td>\n",
       "    </tr>\n",
       "    <tr>\n",
       "      <th>159858</th>\n",
       "      <td>The Conjuring 2 (2016)</td>\n",
       "      <td>Horror</td>\n",
       "      <td>https://image.tmdb.org/t/p/w500/zEqyD0SBt6HL7W...</td>\n",
       "      <td>NaN</td>\n",
       "    </tr>\n",
       "    <tr>\n",
       "      <th>163134</th>\n",
       "      <td>Your Name. (2016)</td>\n",
       "      <td>Animation|Drama|Fantasy|Romance</td>\n",
       "      <td>https://image.tmdb.org/t/p/w500/q719jXXEzOoYap...</td>\n",
       "      <td>NaN</td>\n",
       "    </tr>\n",
       "  </tbody>\n",
       "</table>\n",
       "<p>9742 rows × 4 columns</p>\n",
       "</div>"
      ],
      "text/plain": [
       "                                                    title  \\\n",
       "id                                                          \n",
       "168712                         Fifty Shades Darker (2017)   \n",
       "1477                                    Love Jones (1997)   \n",
       "2538                                    Dancemaker (1998)   \n",
       "2623                                      Trippin' (1999)   \n",
       "4466                                 Above the Law (1988)   \n",
       "...                                                   ...   \n",
       "114554  Tale of Princess Kaguya, The (Kaguyahime no mo...   \n",
       "122892                     Avengers: Age of Ultron (2015)   \n",
       "122912             Avengers: Infinity War - Part I (2018)   \n",
       "159858                             The Conjuring 2 (2016)   \n",
       "163134                                  Your Name. (2016)   \n",
       "\n",
       "                                 genres  \\\n",
       "id                                        \n",
       "168712                    Drama|Romance   \n",
       "1477                            Romance   \n",
       "2538                        Documentary   \n",
       "2623                             Comedy   \n",
       "4466                 Action|Crime|Drama   \n",
       "...                                 ...   \n",
       "114554          Animation|Drama|Fantasy   \n",
       "122892          Action|Adventure|Sci-Fi   \n",
       "122912          Action|Adventure|Sci-Fi   \n",
       "159858                           Horror   \n",
       "163134  Animation|Drama|Fantasy|Romance   \n",
       "\n",
       "                                                   poster  pred_rating  \n",
       "id                                                                      \n",
       "168712  https://image.tmdb.org/t/p/w500/7CBO9GhsUeMSsW...    12.940028  \n",
       "1477    https://image.tmdb.org/t/p/w500/7LdKsfON12uEyD...    12.940028  \n",
       "2538                                            Not_found     5.941765  \n",
       "2623    https://image.tmdb.org/t/p/w500/83I7V7uLTPoUYK...     5.941765  \n",
       "4466    https://image.tmdb.org/t/p/w500/20bD11jTM2fbVG...     5.336452  \n",
       "...                                                   ...          ...  \n",
       "114554  https://image.tmdb.org/t/p/w500/mWRQNlWXYYfd2z...          NaN  \n",
       "122892  https://image.tmdb.org/t/p/w500/4ssDuvEDkSArWE...          NaN  \n",
       "122912  https://image.tmdb.org/t/p/w500/7WsyChQLEftFiD...          NaN  \n",
       "159858  https://image.tmdb.org/t/p/w500/zEqyD0SBt6HL7W...          NaN  \n",
       "163134  https://image.tmdb.org/t/p/w500/q719jXXEzOoYap...          NaN  \n",
       "\n",
       "[9742 rows x 4 columns]"
      ]
     },
     "execution_count": 8,
     "metadata": {},
     "output_type": "execute_result"
    }
   ],
   "source": [
    "reccomendation"
   ]
  },
  {
   "cell_type": "code",
   "execution_count": 9,
   "metadata": {},
   "outputs": [
    {
     "data": {
      "text/plain": [
       "2085"
      ]
     },
     "execution_count": 9,
     "metadata": {},
     "output_type": "execute_result"
    }
   ],
   "source": [
    "movies1.iloc[3]['MOVIEID']"
   ]
  },
  {
   "cell_type": "code",
   "execution_count": 2,
   "metadata": {},
   "outputs": [],
   "source": [
    "def recommended():\n",
    "    page = request.args.get('page', 1, type=int)\n",
    "\n",
    "    if page is None:\n",
    "        page = 1\n",
    "\n",
    "    db = get_db()\n",
    "\n",
    "    #Ambil data ratings dari sqlite dengan querry \"SELECT * FROM review\" dan simpan ke pandas dataframe\n",
    "    ratings = pd.read_sql_query('SELECT userId, movieId, rating FROM ratings',db)\n",
    "    ratings.columns = ['USERID', 'MOVIEID', 'RATING']\n",
    "    #Ambil data movies dari sqlite dengan querry \"SELECT * FROM review\" dan simpan ke pandas dataframe\n",
    "    movies = pd.read_sql_query('SELECT * FROM movies', db)\n",
    "    movies.columns = ['MOVIEID', 'TITLE', 'GENRES', 'POSTER']\n",
    "\n",
    "    combined_movies_data = pd.merge(ratings, movies, how='inner', on='MOVIEID')#merge data rating dan data movie pada movieId\n",
    "    #Buat pivot table untuk rating menggunakan userId sebagai index dan movieId sebagai kolom\n",
    "    rating_crosstab = combined_movies_data.pivot_table(index='USERID', columns='MOVIEID', values='RATING').fillna(0)\n",
    "    #lakukan transpose dan dimesionality reduction dengan menggunakan fungsi SVD ke tabel pivot yang telah dibuat\n",
    "    X = rating_crosstab.T\n",
    "    SVD = TruncatedSVD(n_components=12, random_state=5)\n",
    "    resultant_matrix = SVD.fit_transform(X)\n",
    "\n",
    "    #cari korelasi antar film menggunakan pearson correlation menggunakan fungsi corrcoef pada library numpy\n",
    "    corr_mat = np.corrcoef(resultant_matrix)\n",
    "    corr_mat = pd.DataFrame(corr_mat, columns = rating_crosstab.columns.tolist(), index = rating_crosstab.columns.tolist())\n",
    "    #cari data user yang akan diberi rekomendasi berdasarkan rating film tertinggi yang diberikan \n",
    "    userId=5\n",
    "    unrated=X[userId].loc[X[userId]==0]\n",
    "    rated=X[userId].loc[X[userId]>0]\n",
    "    #buat pivot table dengan menggunakan movieId yang sudah dirating sebagai kolom dan movieId yang belum dirating sebagai index\n",
    "    r_ur_corr_matt=corr_mat[rated.index].loc[unrated.index]\\\n",
    "                .apply(lambda x: x.nlargest(5), axis=1).fillna(0)#cari nilai similarity pada 10 item yang sudah \n",
    "\n",
    "    simlilarity_dot_weight=r_ur_corr_matt.apply(lambda x: sum(x*rated), axis=1)\n",
    "    simlilarity_sum=r_ur_corr_matt.apply(np.sum, axis=1)\n",
    "    pred=(simlilarity_dot_weight/simlilarity_sum).sort_values(ascending=False)\n",
    "    reccomendation=pd.concat([movies.set_index('MOVIEID'), pred], axis=1).sort_values(by=0, ascending=False)\n",
    "    movies=reccomendation[page * 8: page * 8 + 8]\n",
    "    images=movies['POSTER'].tolist()"
   ]
  },
  {
   "cell_type": "code",
   "execution_count": null,
   "metadata": {},
   "outputs": [],
   "source": []
  }
 ],
 "metadata": {
  "interpreter": {
   "hash": "dd8a0eca17cf48f5766a881eb4023a5d930a398dd5e973b0565eb17605f3eea4"
  },
  "kernelspec": {
   "display_name": "Python 3.9.9 64-bit",
   "language": "python",
   "name": "python3"
  },
  "language_info": {
   "codemirror_mode": {
    "name": "ipython",
    "version": 3
   },
   "file_extension": ".py",
   "mimetype": "text/x-python",
   "name": "python",
   "nbconvert_exporter": "python",
   "pygments_lexer": "ipython3",
   "version": "3.9.9"
  },
  "orig_nbformat": 4
 },
 "nbformat": 4,
 "nbformat_minor": 2
}
