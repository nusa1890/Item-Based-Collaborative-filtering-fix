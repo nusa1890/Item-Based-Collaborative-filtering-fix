{
 "cells": [
  {
   "cell_type": "code",
   "execution_count": 7,
   "metadata": {},
   "outputs": [],
   "source": [
    "import requests"
   ]
  },
  {
   "cell_type": "code",
   "execution_count": 26,
   "metadata": {},
   "outputs": [],
   "source": [
    "r = requests.get(\"https://api.themoviedb.org/3/search/movie?api_key=8d5d54aa72351ac3e821515d968260c5&language=en-US&query=Toy%20story&page=1&include_adult=true&year=1995\")"
   ]
  },
  {
   "cell_type": "code",
   "execution_count": 27,
   "metadata": {},
   "outputs": [
    {
     "name": "stdout",
     "output_type": "stream",
     "text": [
      "/uXDfjJbdP4ijW5hWSBrPrlKpxab.jpg\n"
     ]
    }
   ],
   "source": [
    "print(r.json()['results'][0]['poster_path'])"
   ]
  },
  {
   "cell_type": "code",
   "execution_count": 1,
   "metadata": {},
   "outputs": [
    {
     "ename": "NameError",
     "evalue": "name 'db' is not defined",
     "output_type": "error",
     "traceback": [
      "\u001b[1;31m---------------------------------------------------------------------------\u001b[0m",
      "\u001b[1;31mNameError\u001b[0m                                 Traceback (most recent call last)",
      "\u001b[1;32m~\\AppData\\Local\\Temp/ipykernel_9820/2056784994.py\u001b[0m in \u001b[0;36m<module>\u001b[1;34m\u001b[0m\n\u001b[1;32m----> 1\u001b[1;33m \u001b[0mmovies\u001b[0m \u001b[1;33m=\u001b[0m \u001b[0mdb\u001b[0m\u001b[1;33m.\u001b[0m\u001b[0mexecute\u001b[0m\u001b[1;33m(\u001b[0m\u001b[1;34m'SELECT id, title, genres '\u001b[0m\u001b[1;34m'FROM movie '\u001b[0m\u001b[1;34m'EXCEPT '\u001b[0m\u001b[1;34m'SELECT m.id, m.title, m.genres '\u001b[0m\u001b[1;34m'FROM movie m '\u001b[0m\u001b[1;34m'INNER JOIN '\u001b[0m\u001b[1;34m'review r '\u001b[0m\u001b[1;34m'ON r.userID = ? '\u001b[0m\u001b[1;34m'and m.id = r.movieID '\u001b[0m\u001b[1;34m' LIMIT ? OFFSET ?'\u001b[0m\u001b[1;33m,\u001b[0m\u001b[1;33m(\u001b[0m\u001b[0mg\u001b[0m\u001b[1;33m.\u001b[0m\u001b[0muser\u001b[0m\u001b[1;33m[\u001b[0m\u001b[1;34m'id'\u001b[0m\u001b[1;33m]\u001b[0m\u001b[1;33m,\u001b[0m \u001b[1;34m'8'\u001b[0m\u001b[1;33m,\u001b[0m \u001b[0mstr\u001b[0m\u001b[1;33m(\u001b[0m\u001b[1;33m(\u001b[0m\u001b[0mpage\u001b[0m \u001b[1;33m-\u001b[0m \u001b[1;36m1\u001b[0m\u001b[1;33m)\u001b[0m \u001b[1;33m*\u001b[0m \u001b[1;36m8\u001b[0m\u001b[1;33m)\u001b[0m\u001b[1;33m,\u001b[0m \u001b[1;33m)\u001b[0m\u001b[1;33m)\u001b[0m\u001b[1;33m.\u001b[0m\u001b[0mfetchall\u001b[0m\u001b[1;33m(\u001b[0m\u001b[1;33m)\u001b[0m\u001b[1;33m\u001b[0m\u001b[1;33m\u001b[0m\u001b[0m\n\u001b[0m",
      "\u001b[1;31mNameError\u001b[0m: name 'db' is not defined"
     ]
    }
   ],
   "source": [
    "movies = db.execute('SELECT id, title, genres ''FROM movie ''EXCEPT ''SELECT m.id, m.title, m.genres ''FROM movie m ''INNER JOIN ''review r ''ON r.userID = ? ''and m.id = r.movieID '' LIMIT ? OFFSET ?',(g.user['id'], '8', str((page - 1) * 8), )).fetchall()"
   ]
  },
  {
   "cell_type": "code",
   "execution_count": 33,
   "metadata": {},
   "outputs": [
    {
     "data": {
      "text/plain": [
       "'24'"
      ]
     },
     "execution_count": 33,
     "metadata": {},
     "output_type": "execute_result"
    }
   ],
   "source": [
    "page=4\n",
    "str((page - 1) * 8)"
   ]
  },
  {
   "cell_type": "code",
   "execution_count": 2,
   "metadata": {},
   "outputs": [
    {
     "ename": "NameError",
     "evalue": "name 'requests' is not defined",
     "output_type": "error",
     "traceback": [
      "\u001b[1;31m---------------------------------------------------------------------------\u001b[0m",
      "\u001b[1;31mNameError\u001b[0m                                 Traceback (most recent call last)",
      "\u001b[1;32m~\\AppData\\Local\\Temp/ipykernel_9820/3301154971.py\u001b[0m in \u001b[0;36m<module>\u001b[1;34m\u001b[0m\n\u001b[0;32m     14\u001b[0m     \u001b[0mactual_title\u001b[0m \u001b[1;33m=\u001b[0m \u001b[0mactual_title\u001b[0m\u001b[1;33m.\u001b[0m\u001b[0mreplace\u001b[0m\u001b[1;33m(\u001b[0m\u001b[1;34m' '\u001b[0m\u001b[1;33m,\u001b[0m \u001b[1;34m'&'\u001b[0m\u001b[1;33m)\u001b[0m\u001b[1;33m\u001b[0m\u001b[1;33m\u001b[0m\u001b[0m\n\u001b[0;32m     15\u001b[0m     \u001b[0mdata\u001b[0m \u001b[1;33m=\u001b[0m \u001b[0mtitle\u001b[0m\u001b[1;33m[\u001b[0m\u001b[1;36m1\u001b[0m\u001b[1;33m]\u001b[0m\u001b[1;33m[\u001b[0m\u001b[1;33m:\u001b[0m\u001b[1;33m-\u001b[0m\u001b[1;36m1\u001b[0m\u001b[1;33m]\u001b[0m\u001b[1;33m\u001b[0m\u001b[1;33m\u001b[0m\u001b[0m\n\u001b[1;32m---> 16\u001b[1;33m     \u001b[0mr\u001b[0m \u001b[1;33m=\u001b[0m \u001b[0mrequests\u001b[0m\u001b[1;33m.\u001b[0m\u001b[0mget\u001b[0m\u001b[1;33m(\u001b[0m\u001b[1;34m\"https://api.themoviedb.org/3/search/movie?api_key=8d5d54aa72351ac3e821515d968260c5&language=en-US&query=\"\u001b[0m \u001b[1;33m+\u001b[0m \u001b[0mactual_title\u001b[0m \u001b[1;33m+\u001b[0m \u001b[1;34m\"&page=1&include_adult=true&year=\"\u001b[0m \u001b[1;33m+\u001b[0m \u001b[0mdata\u001b[0m\u001b[1;33m)\u001b[0m\u001b[1;33m\u001b[0m\u001b[1;33m\u001b[0m\u001b[0m\n\u001b[0m\u001b[0;32m     17\u001b[0m \u001b[1;33m\u001b[0m\u001b[0m\n\u001b[0;32m     18\u001b[0m     \u001b[0mposter_path\u001b[0m \u001b[1;33m=\u001b[0m \u001b[0mr\u001b[0m\u001b[1;33m.\u001b[0m\u001b[0mjson\u001b[0m\u001b[1;33m(\u001b[0m\u001b[1;33m)\u001b[0m\u001b[1;33m[\u001b[0m\u001b[1;34m'results'\u001b[0m\u001b[1;33m]\u001b[0m\u001b[1;33m[\u001b[0m\u001b[1;36m0\u001b[0m\u001b[1;33m]\u001b[0m\u001b[1;33m[\u001b[0m\u001b[1;34m'poster_path'\u001b[0m\u001b[1;33m]\u001b[0m\u001b[1;33m\u001b[0m\u001b[1;33m\u001b[0m\u001b[0m\n",
      "\u001b[1;31mNameError\u001b[0m: name 'requests' is not defined"
     ]
    }
   ],
   "source": [
    "\n",
    "movies = ('Tom and Huck (1995)',\n",
    "'GoldenEye (1995)',\n",
    "'American President, The (1995)',\n",
    "'Dracula: Dead and Loving It (1995)',\n",
    "'Balto (1995)',\n",
    "'Nixon (1995)',\n",
    "'Cutthroat Island (1995)',\n",
    "'Casino (1995)')\n",
    "images=[]\n",
    "for movie in movies:\n",
    "    title = movie\n",
    "    title = title.split('(')\n",
    "    actual_title = title[0].rstrip()\n",
    "    actual_title = actual_title.replace(' ', '&')\n",
    "    data = title[1][:-1]\n",
    "    r = requests.get(\"https://api.themoviedb.org/3/search/movie?api_key=8d5d54aa72351ac3e821515d968260c5&language=en-US&query=\" + actual_title + \"&page=1&include_adult=true&year=\" + data)\n",
    "\n",
    "    poster_path = r.json()['results'][0]['poster_path']\n",
    "    poster_path = 'https://image.tmdb.org/t/p/w500' + poster_path\n",
    "    images.append(poster_path)\n",
    "\n",
    "listas = zip(movies, images)"
   ]
  },
  {
   "cell_type": "code",
   "execution_count": 69,
   "metadata": {},
   "outputs": [],
   "source": [
    "title = movie\n",
    "title = title.split('(')\n",
    "actual_title = title[0].rstrip()\n",
    "actual_title = actual_title.replace(' ', '&')\n",
    "data = title[1][:-1]\n"
   ]
  },
  {
   "cell_type": "code",
   "execution_count": 67,
   "metadata": {},
   "outputs": [],
   "source": [
    "actual_title\n",
    "actual_title = actual_title.replace(' ', '&')"
   ]
  },
  {
   "cell_type": "code",
   "execution_count": 70,
   "metadata": {},
   "outputs": [
    {
     "data": {
      "text/plain": [
       "'American&President,&The'"
      ]
     },
     "execution_count": 70,
     "metadata": {},
     "output_type": "execute_result"
    }
   ],
   "source": [
    "actual_title"
   ]
  },
  {
   "cell_type": "code",
   "execution_count": 52,
   "metadata": {},
   "outputs": [
    {
     "data": {
      "text/plain": [
       "<Response [200]>"
      ]
     },
     "execution_count": 52,
     "metadata": {},
     "output_type": "execute_result"
    }
   ],
   "source": [
    "data"
   ]
  },
  {
   "cell_type": "code",
   "execution_count": 50,
   "metadata": {},
   "outputs": [],
   "source": [
    "poster_path = r.json()"
   ]
  },
  {
   "cell_type": "code",
   "execution_count": 51,
   "metadata": {},
   "outputs": [
    {
     "data": {
      "text/plain": [
       "{'page': 1, 'results': [], 'total_pages': 0, 'total_results': 0}"
      ]
     },
     "execution_count": 51,
     "metadata": {},
     "output_type": "execute_result"
    }
   ],
   "source": [
    "poster_path"
   ]
  },
  {
   "cell_type": "code",
   "execution_count": null,
   "metadata": {},
   "outputs": [],
   "source": [
    "def recommend_movies(predictions_df,\n",
    "                     userID,\n",
    "                     movies_df,\n",
    "                     original_ratings_df,\n",
    "                     num_recommendations=5):\n",
    "\n",
    "    # Get and sort the user's predictions\n",
    "    user_row_number = userID - 1  # UserID starts at 1, not 0\n",
    "    sorted_user_predictions = predictions_df.iloc[user_row_number].sort_values(\n",
    "        ascending=False)\n",
    "\n",
    "    # Get the user's data and merge in the movie information.\n",
    "    user_data = original_ratings_df[original_ratings_df.USERID == (userID)]\n",
    "    user_full = (user_data.merge(\n",
    "        movies_df, how='left', left_on='MOVIEID',\n",
    "        right_on='MOVIEID').sort_values(['RATING'], ascending=False))\n",
    "\n",
    "    print('User {} has already rated {} movies.'.format(userID, user_full.shape[0]))\n",
    "    print('Recommending the highest {} predicted ratings movies not already rated.'.format(num_recommendations))\n",
    "\n",
    "    # Recommend the highest predicted rating movies that the user hasn't seen yet.\n",
    "    recommendations = (\n",
    "        movies_df[~movies_df['MOVIEID'].isin(user_full['MOVIEID'])].merge(\n",
    "            pd.DataFrame(sorted_user_predictions).reset_index(),\n",
    "            how='left',\n",
    "            left_on='MOVIEID',\n",
    "            right_on='MOVIEID').rename(columns={\n",
    "                user_row_number: 'Predictions'\n",
    "            }).sort_values('Predictions',\n",
    "                           ascending=False).iloc[:num_recommendations, :-1])\n",
    "\n",
    "    return user_full, recommendations"
   ]
  },
  {
   "cell_type": "code",
   "execution_count": 1,
   "metadata": {},
   "outputs": [
    {
     "name": "stdout",
     "output_type": "stream",
     "text": [
      "User 1 has already rated 238 movies.\n",
      "Recommending the highest 50 predicted ratings movies not already rated.\n"
     ]
    },
    {
     "data": {
      "text/plain": [
       "'for i in range(len(movies.index)):\\n    title = movies.iloc[i][\\'TITLE\\']\\n    title = title.split(\\'(\\')\\n    actual_title = title[0].rstrip()\\n    actual_title = actual_title.replace(\\' \\', \\'&\\')\\n    data = title[1][:-1]\\n    r = requests.get(\"https://api.themoviedb.org/3/search/movie?api_key=8d5d54aa72351ac3e821515d968260c5&language=en-US&query=\" + actual_title + \"&page=1&include_adult=true&year=\" + data)\\n\\n    poster_path = r.json()[\\'results\\'][0][\\'poster_path\\']\\n    poster_path = \\'https://image.tmdb.org/t/p/w500\\' + poster_path\\n    images.append(poster_path)'"
      ]
     },
     "execution_count": 1,
     "metadata": {},
     "output_type": "execute_result"
    }
   ],
   "source": [
    "import sqlite3\n",
    "import pandas as pd\n",
    "import numpy as np\n",
    "from scipy.sparse.linalg import svds\n",
    "\n",
    "def recommend_movies(predictions_df,\n",
    "                     userID,\n",
    "                     movies_df,\n",
    "                     original_ratings_df,\n",
    "                     num_recommendations=5):\n",
    "\n",
    "    # Get and sort the user's predictions\n",
    "    user_row_number = userID - 1  # UserID starts at 1, not 0\n",
    "    sorted_user_predictions = predictions_df.iloc[user_row_number].sort_values(\n",
    "        ascending=False)\n",
    "\n",
    "    # Get the user's data and merge in the movie information.\n",
    "    user_data = original_ratings_df[original_ratings_df.USERID == (userID)]\n",
    "    user_full = (user_data.merge(\n",
    "        movies_df, how='left', left_on='MOVIEID',\n",
    "        right_on='MOVIEID').sort_values(['RATING'], ascending=False))\n",
    "\n",
    "    print('User {} has already rated {} movies.'.format(userID, user_full.shape[0]))\n",
    "    print('Recommending the highest {} predicted ratings movies not already rated.'.format(num_recommendations))\n",
    "\n",
    "    # Recommend the highest predicted rating movies that the user hasn't seen yet.\n",
    "    recommendations = (\n",
    "        movies_df[~movies_df['MOVIEID'].isin(user_full['MOVIEID'])].merge(\n",
    "            pd.DataFrame(sorted_user_predictions).reset_index(),\n",
    "            how='left',\n",
    "            left_on='MOVIEID',\n",
    "            right_on='MOVIEID').rename(columns={\n",
    "                user_row_number: 'Predictions'\n",
    "            }).sort_values('Predictions',\n",
    "                           ascending=False).iloc[:num_recommendations, :-1])\n",
    "\n",
    "    return user_full, recommendations\n",
    "\n",
    "\n",
    "db = sqlite3.connect(\"C:/Users/User10/Downloads/Movie-Recommender-master/Movie-Recommender-master/instance/flaskr.sqlite\")\n",
    "\n",
    "movie_df = pd.read_sql_query('SELECT * FROM movie', db)\n",
    "rating_df = pd.read_sql_query('SELECT * FROM review', db)\n",
    "\n",
    "# rename so they have the same stuff\n",
    "#movie_df.rename({\"id\":\"MOVIEID\", \"title\": \"TITLE\", \"genres\": \"GENRES\"}, axis=1)\n",
    "#rating_df.rename({\"userID\": \"USERID\", \"movieID\": \"MOVIEID\", \"rating\":\"RATING\" }, axis = 1)\n",
    "\n",
    "movie_df.columns = ['MOVIEID', 'TITLE', 'GENRES']\n",
    "rating_df.columns = ['USERID', 'MOVIEID', 'RATING']\n",
    "\n",
    "movie_df['MOVIEID'] = movie_df['MOVIEID'].apply(pd.to_numeric)\n",
    "\n",
    "# format matrix to be one row per user and one column per movie\n",
    "\n",
    "R_df = rating_df.pivot(\n",
    "    index='USERID', columns='MOVIEID', values='RATING').fillna(0)\n",
    "\n",
    "# de - mean the data and convert it from a dataframe\n",
    "# to a numpy array\n",
    "\n",
    "R = R_df.values\n",
    "user_ratings_mean = np.mean(R, axis=1)\n",
    "R_demeaned = R - user_ratings_mean.reshape(-1, 1)\n",
    "\n",
    "# Perform singular value decomposition\n",
    "# use scipys function for svds\n",
    "U, sigma, Vt = svds(R_demeaned, k=50)\n",
    "\n",
    "sigma = np.diag(sigma)\n",
    "\n",
    "all_user_predicted_ratings = np.dot(np.dot(U, sigma),\n",
    "                                    Vt) + user_ratings_mean.reshape(-1, 1)\n",
    "preds_df = pd.DataFrame(all_user_predicted_ratings, columns=R_df.columns)\n",
    "\n",
    "#already_rated, predictions = recommend_movies(preds_df, g.user['id'], movie_df, rating_df, 50)\n",
    "already_rated, predictions = recommend_movies(preds_df, 1, movie_df, rating_df, 50)\n",
    "page = 1\n",
    "movies = predictions[page * 8: page * 8 + 8]\n",
    "\n",
    "#print(predictions['GENRES'])\n",
    "images = []\n",
    "#r = requests.get(\"https://api.themoviedb.org/3/search/movie?api_key=8d5d54aa72351ac3e821515d968260c5&language=en-US&query=Toy%20story&page=1&include_adult=true&year=1995\")\n",
    "\n",
    "'''for i in range(len(movies.index)):\n",
    "    title = movies.iloc[i]['TITLE']\n",
    "    title = title.split('(')\n",
    "    actual_title = title[0].rstrip()\n",
    "    actual_title = actual_title.replace(' ', '&')\n",
    "    data = title[1][:-1]\n",
    "    r = requests.get(\"https://api.themoviedb.org/3/search/movie?api_key=8d5d54aa72351ac3e821515d968260c5&language=en-US&query=\" + actual_title + \"&page=1&include_adult=true&year=\" + data)\n",
    "\n",
    "    poster_path = r.json()['results'][0]['poster_path']\n",
    "    poster_path = 'https://image.tmdb.org/t/p/w500' + poster_path\n",
    "    images.append(poster_path)'''"
   ]
  },
  {
   "cell_type": "code",
   "execution_count": 15,
   "metadata": {},
   "outputs": [],
   "source": [
    "import sqlite3\n",
    "import pandas as pd\n",
    "con = sqlite3.connect(\"E:/Movie-Recommender-master/Movie-Recommender-master - Copy/instance/new.db\")\n"
   ]
  },
  {
   "cell_type": "code",
   "execution_count": 21,
   "metadata": {},
   "outputs": [
    {
     "data": {
      "text/html": [
       "<div>\n",
       "<style scoped>\n",
       "    .dataframe tbody tr th:only-of-type {\n",
       "        vertical-align: middle;\n",
       "    }\n",
       "\n",
       "    .dataframe tbody tr th {\n",
       "        vertical-align: top;\n",
       "    }\n",
       "\n",
       "    .dataframe thead th {\n",
       "        text-align: right;\n",
       "    }\n",
       "</style>\n",
       "<table border=\"1\" class=\"dataframe\">\n",
       "  <thead>\n",
       "    <tr style=\"text-align: right;\">\n",
       "      <th></th>\n",
       "      <th>id</th>\n",
       "      <th>title</th>\n",
       "      <th>genres</th>\n",
       "      <th>poster</th>\n",
       "      <th>rating</th>\n",
       "    </tr>\n",
       "  </thead>\n",
       "  <tbody>\n",
       "    <tr>\n",
       "      <th>0</th>\n",
       "      <td>163</td>\n",
       "      <td>Desperado (1995)</td>\n",
       "      <td>Action|Romance|Western</td>\n",
       "      <td>https://image.tmdb.org/t/p/w500/e3gwpBeXpvGZsx...</td>\n",
       "      <td>5.0</td>\n",
       "    </tr>\n",
       "    <tr>\n",
       "      <th>1</th>\n",
       "      <td>216</td>\n",
       "      <td>Billy Madison (1995)</td>\n",
       "      <td>Comedy</td>\n",
       "      <td>https://image.tmdb.org/t/p/w500/1XV42Zu9taxluI...</td>\n",
       "      <td>5.0</td>\n",
       "    </tr>\n",
       "    <tr>\n",
       "      <th>2</th>\n",
       "      <td>223</td>\n",
       "      <td>Clerks (1994)</td>\n",
       "      <td>Comedy</td>\n",
       "      <td>https://image.tmdb.org/t/p/w500/zeFhNF0SXlYIvW...</td>\n",
       "      <td>3.0</td>\n",
       "    </tr>\n",
       "    <tr>\n",
       "      <th>3</th>\n",
       "      <td>231</td>\n",
       "      <td>Dumb &amp; Dumber (Dumb and Dumber) (1994)</td>\n",
       "      <td>Adventure|Comedy</td>\n",
       "      <td>https://image.tmdb.org/t/p/w500/4LdpBXiCyGKkR8...</td>\n",
       "      <td>5.0</td>\n",
       "    </tr>\n",
       "    <tr>\n",
       "      <th>4</th>\n",
       "      <td>235</td>\n",
       "      <td>Ed Wood (1994)</td>\n",
       "      <td>Comedy|Drama</td>\n",
       "      <td>https://image.tmdb.org/t/p/w500/A5NCOebgzXe0jP...</td>\n",
       "      <td>4.0</td>\n",
       "    </tr>\n",
       "    <tr>\n",
       "      <th>5</th>\n",
       "      <td>260</td>\n",
       "      <td>Star Wars: Episode IV - A New Hope (1977)</td>\n",
       "      <td>Action|Adventure|Sci-Fi</td>\n",
       "      <td>https://image.tmdb.org/t/p/w500/6FfCtAuVAW8XJj...</td>\n",
       "      <td>5.0</td>\n",
       "    </tr>\n",
       "    <tr>\n",
       "      <th>6</th>\n",
       "      <td>296</td>\n",
       "      <td>Pulp Fiction (1994)</td>\n",
       "      <td>Comedy|Crime|Drama|Thriller</td>\n",
       "      <td>https://image.tmdb.org/t/p/w500/fIE3lAGcZDV1G6...</td>\n",
       "      <td>3.0</td>\n",
       "    </tr>\n",
       "    <tr>\n",
       "      <th>7</th>\n",
       "      <td>316</td>\n",
       "      <td>Stargate (1994)</td>\n",
       "      <td>Action|Adventure|Sci-Fi</td>\n",
       "      <td>https://image.tmdb.org/t/p/w500/5TE3obJopSD9lW...</td>\n",
       "      <td>3.0</td>\n",
       "    </tr>\n",
       "  </tbody>\n",
       "</table>\n",
       "</div>"
      ],
      "text/plain": [
       "    id                                      title  \\\n",
       "0  163                           Desperado (1995)   \n",
       "1  216                       Billy Madison (1995)   \n",
       "2  223                              Clerks (1994)   \n",
       "3  231     Dumb & Dumber (Dumb and Dumber) (1994)   \n",
       "4  235                             Ed Wood (1994)   \n",
       "5  260  Star Wars: Episode IV - A New Hope (1977)   \n",
       "6  296                        Pulp Fiction (1994)   \n",
       "7  316                            Stargate (1994)   \n",
       "\n",
       "                        genres  \\\n",
       "0       Action|Romance|Western   \n",
       "1                       Comedy   \n",
       "2                       Comedy   \n",
       "3             Adventure|Comedy   \n",
       "4                 Comedy|Drama   \n",
       "5      Action|Adventure|Sci-Fi   \n",
       "6  Comedy|Crime|Drama|Thriller   \n",
       "7      Action|Adventure|Sci-Fi   \n",
       "\n",
       "                                              poster  rating  \n",
       "0  https://image.tmdb.org/t/p/w500/e3gwpBeXpvGZsx...     5.0  \n",
       "1  https://image.tmdb.org/t/p/w500/1XV42Zu9taxluI...     5.0  \n",
       "2  https://image.tmdb.org/t/p/w500/zeFhNF0SXlYIvW...     3.0  \n",
       "3  https://image.tmdb.org/t/p/w500/4LdpBXiCyGKkR8...     5.0  \n",
       "4  https://image.tmdb.org/t/p/w500/A5NCOebgzXe0jP...     4.0  \n",
       "5  https://image.tmdb.org/t/p/w500/6FfCtAuVAW8XJj...     5.0  \n",
       "6  https://image.tmdb.org/t/p/w500/fIE3lAGcZDV1G6...     3.0  \n",
       "7  https://image.tmdb.org/t/p/w500/5TE3obJopSD9lW...     3.0  "
      ]
     },
     "execution_count": 21,
     "metadata": {},
     "output_type": "execute_result"
    }
   ],
   "source": [
    "#blog.py\n",
    "test=pd.read_sql_query('SELECT m.id, m.title, m.genres, m.poster, r.rating '\n",
    "                  'FROM movies m '\n",
    "                  'INNER JOIN '\n",
    "                  'ratings r '\n",
    "                  'ON r.userID = 1 '\n",
    "                  'and m.id = r.movieID '\n",
    "                  'LIMIT 8 OFFSET 8', con)\n",
    "test"
   ]
  },
  {
   "cell_type": "code",
   "execution_count": 25,
   "metadata": {},
   "outputs": [],
   "source": [
    "images=test['poster'].to_list()"
   ]
  },
  {
   "cell_type": "code",
   "execution_count": 26,
   "metadata": {},
   "outputs": [],
   "source": [
    "listas = zip(test, images)"
   ]
  },
  {
   "cell_type": "code",
   "execution_count": 29,
   "metadata": {},
   "outputs": [
    {
     "data": {
      "text/plain": [
       "<zip at 0x20c6745d940>"
      ]
     },
     "execution_count": 29,
     "metadata": {},
     "output_type": "execute_result"
    }
   ],
   "source": [
    "listas"
   ]
  },
  {
   "cell_type": "code",
   "execution_count": 45,
   "metadata": {},
   "outputs": [
    {
     "data": {
      "text/plain": [
       "'images = []\\n\\nfor movie in ratings:\\n    title = movie[\\'title\\']\\n    title = title.split(\\'(\\')\\n    actual_title = title[0].rstrip()\\n    data = title[1][:-1]\\n    r = requests.get(\"https://api.themoviedb.org/3/search/movie?api_key=8d5d54aa72351ac3e821515d968260c5&language=en-US&query=\" + actual_title + \"&page=1&include_adult=true&year=\" + data)\\n\\n    poster_path = r.json()[\\'results\\'][0][\\'poster_path\\']\\n    poster_path = \\'https://image.tmdb.org/t/p/w500\\' + poster_path\\n\\n    images.append(poster_path)\\n\\nlistas = zip(ratings, images)'"
      ]
     },
     "execution_count": 45,
     "metadata": {},
     "output_type": "execute_result"
    }
   ],
   "source": [
    "db = sqlite3.connect(\"E:/Movie-Recommender-master/Movie-Recommender-master - Copy/instance/new.db\")\n",
    "ratings = db.execute('SELECT m.id, m.title, m.genres, m.poster, r.rating '\n",
    "                  'FROM movies m '\n",
    "                  'INNER JOIN '\n",
    "                  'ratings r '\n",
    "                  'ON r.userID = 1 '\n",
    "                  'and m.id = r.movieID '\n",
    "                  'LIMIT 8 OFFSET 8',).fetchall()\n",
    "\n",
    "'''images = []\n",
    "\n",
    "for movie in ratings:\n",
    "    title = movie['title']\n",
    "    title = title.split('(')\n",
    "    actual_title = title[0].rstrip()\n",
    "    data = title[1][:-1]\n",
    "    r = requests.get(\"https://api.themoviedb.org/3/search/movie?api_key=8d5d54aa72351ac3e821515d968260c5&language=en-US&query=\" + actual_title + \"&page=1&include_adult=true&year=\" + data)\n",
    "\n",
    "    poster_path = r.json()['results'][0]['poster_path']\n",
    "    poster_path = 'https://image.tmdb.org/t/p/w500' + poster_path\n",
    "\n",
    "    images.append(poster_path)\n",
    "\n",
    "listas = zip(ratings, images)'''"
   ]
  },
  {
   "cell_type": "code",
   "execution_count": 52,
   "metadata": {},
   "outputs": [
    {
     "data": {
      "text/plain": [
       "'https://image.tmdb.org/t/p/w500/e3gwpBeXpvGZsxUya9zNym5QXrw.jpg'"
      ]
     },
     "execution_count": 52,
     "metadata": {},
     "output_type": "execute_result"
    }
   ],
   "source": [
    "ratings[0][3]"
   ]
  },
  {
   "cell_type": "code",
   "execution_count": 57,
   "metadata": {},
   "outputs": [
    {
     "data": {
      "text/plain": [
       "['https://image.tmdb.org/t/p/w500/e3gwpBeXpvGZsxUya9zNym5QXrw.jpg',\n",
       " 'https://image.tmdb.org/t/p/w500/1XV42Zu9taxluIKXMeV9OSpYCSq.jpg',\n",
       " 'https://image.tmdb.org/t/p/w500/zeFhNF0SXlYIvWXpaOLuXVQ3jB4.jpg',\n",
       " 'https://image.tmdb.org/t/p/w500/4LdpBXiCyGKkR8FGHgjKlphrfUc.jpg',\n",
       " 'https://image.tmdb.org/t/p/w500/A5NCOebgzXe0jPzh0mbXRWLZNr5.jpg',\n",
       " 'https://image.tmdb.org/t/p/w500/6FfCtAuVAW8XJjZ7eWeLibRLWTw.jpg',\n",
       " 'https://image.tmdb.org/t/p/w500/fIE3lAGcZDV1G6XM5KmuWnNsPp1.jpg',\n",
       " 'https://image.tmdb.org/t/p/w500/5TE3obJopSD9lWCa6rqF2E4Oda7.jpg']"
      ]
     },
     "execution_count": 57,
     "metadata": {},
     "output_type": "execute_result"
    }
   ],
   "source": [
    "images = list(map(lambda poster: poster[3], ratings))"
   ]
  },
  {
   "cell_type": "code",
   "execution_count": 44,
   "metadata": {},
   "outputs": [
    {
     "ename": "TypeError",
     "evalue": "tuple indices must be integers or slices, not str",
     "output_type": "error",
     "traceback": [
      "\u001b[1;31m---------------------------------------------------------------------------\u001b[0m",
      "\u001b[1;31mTypeError\u001b[0m                                 Traceback (most recent call last)",
      "\u001b[1;32m~\\AppData\\Local\\Temp/ipykernel_6312/109810189.py\u001b[0m in \u001b[0;36m<module>\u001b[1;34m\u001b[0m\n\u001b[0;32m      2\u001b[0m \u001b[1;33m\u001b[0m\u001b[0m\n\u001b[0;32m      3\u001b[0m \u001b[1;32mfor\u001b[0m \u001b[0mmovie\u001b[0m \u001b[1;32min\u001b[0m \u001b[0mratings\u001b[0m\u001b[1;33m:\u001b[0m\u001b[1;33m\u001b[0m\u001b[1;33m\u001b[0m\u001b[0m\n\u001b[1;32m----> 4\u001b[1;33m     \u001b[0mtitle\u001b[0m \u001b[1;33m=\u001b[0m \u001b[0mmovie\u001b[0m\u001b[1;33m[\u001b[0m\u001b[1;34m'title'\u001b[0m\u001b[1;33m]\u001b[0m\u001b[1;33m\u001b[0m\u001b[1;33m\u001b[0m\u001b[0m\n\u001b[0m\u001b[0;32m      5\u001b[0m     \u001b[0mtitle\u001b[0m \u001b[1;33m=\u001b[0m \u001b[0mtitle\u001b[0m\u001b[1;33m.\u001b[0m\u001b[0msplit\u001b[0m\u001b[1;33m(\u001b[0m\u001b[1;34m'('\u001b[0m\u001b[1;33m)\u001b[0m\u001b[1;33m\u001b[0m\u001b[1;33m\u001b[0m\u001b[0m\n\u001b[0;32m      6\u001b[0m     \u001b[0mactual_title\u001b[0m \u001b[1;33m=\u001b[0m \u001b[0mtitle\u001b[0m\u001b[1;33m[\u001b[0m\u001b[1;36m0\u001b[0m\u001b[1;33m]\u001b[0m\u001b[1;33m.\u001b[0m\u001b[0mrstrip\u001b[0m\u001b[1;33m(\u001b[0m\u001b[1;33m)\u001b[0m\u001b[1;33m\u001b[0m\u001b[1;33m\u001b[0m\u001b[0m\n",
      "\u001b[1;31mTypeError\u001b[0m: tuple indices must be integers or slices, not str"
     ]
    }
   ],
   "source": [
    "images = []\n",
    "\n",
    "for movie in ratings:\n",
    "    title = movie['title']\n",
    "    title = title.split('(')\n",
    "    actual_title = title[0].rstrip()\n",
    "    data = title[1][:-1]\n",
    "    r = requests.get(\"https://api.themoviedb.org/3/search/movie?api_key=8d5d54aa72351ac3e821515d968260c5&language=en-US&query=\" + actual_title + \"&page=1&include_adult=true&year=\" + data)\n",
    "\n",
    "    poster_path = r.json()['results'][0]['poster_path']\n",
    "    poster_path = 'https://image.tmdb.org/t/p/w500' + poster_path\n",
    "\n",
    "    images.append(poster_path)"
   ]
  },
  {
   "cell_type": "code",
   "execution_count": 5,
   "metadata": {},
   "outputs": [],
   "source": [
    "from matplotlib import image\n",
    "from sklearn.decomposition import TruncatedSVD\n",
    "\n",
    "from scipy.sparse.linalg import svds\n",
    "import sqlite3\n",
    "import pandas as pd\n",
    "import numpy as np\n",
    "import requests\n",
    "\n",
    "def reccomend_movies(user):\n",
    "    page=1\n",
    "    db = sqlite3.connect(\"E:/Movie-Recommender-master/Item-Based Collaborative filtering fix/instance/flaskr.sqlite\")\n",
    "    ratings = pd.read_sql_query('SELECT userId, movieId, rating FROM ratings',db)\n",
    "    ratings.columns = ['USERID', 'MOVIEID', 'RATING']\n",
    "    #Ambil data movies dari sqlite dengan querry \"SELECT * FROM review\" dan simpan ke pandas dataframe\n",
    "    movies = pd.read_sql_query('SELECT * FROM movies', db)\n",
    "    movies.columns = ['MOVIEID', 'TITLE', 'GENRES', 'POSTER']\n",
    "\n",
    "    combined_movies_data = pd.merge(ratings, movies, how='inner', on='MOVIEID')#merge data rating dan data movie pada movieId\n",
    "    #Buat pivot table untuk rating menggunakan userId sebagai index dan movieId sebagai kolom\n",
    "    rating_crosstab = combined_movies_data.pivot_table(index='USERID', columns='MOVIEID', values='RATING').fillna(0)\n",
    "    #lakukan transpose dan dimesionality reduction dengan menggunakan fungsi SVD ke tabel pivot yang telah dibuat\n",
    "    X = rating_crosstab.T\n",
    "    SVD = TruncatedSVD(n_components=12, random_state=5)\n",
    "    resultant_matrix = SVD.fit_transform(X)\n",
    "\n",
    "    #cari korelasi antar film menggunakan pearson correlation menggunakan fungsi corrcoef pada library numpy\n",
    "    corr_mat = np.corrcoef(resultant_matrix)\n",
    "    corr_mat = pd.DataFrame(corr_mat, columns = rating_crosstab.columns.tolist(), index = rating_crosstab.columns.tolist())\n",
    "    #cari data user yang akan diberi rekomendasi berdasarkan rating film tertinggi yang diberikan \n",
    "    userId=user\n",
    "    unrated=X[userId].loc[X[userId]==0]\n",
    "    rated=X[userId].loc[X[userId]>0]\n",
    "    #buat pivot table dengan menggunakan movieId yang sudah dirating sebagai kolom dan movieId yang belum dirating sebagai index\n",
    "    r_ur_corr_matt=corr_mat[rated.index].loc[unrated.index]\\\n",
    "                .apply(lambda x: x.nlargest(5), axis=1).fillna(0)#cari nilai similarity pada 10 item yang sudah \n",
    "\n",
    "    simlilarity_dot_weight=r_ur_corr_matt.apply(lambda x: sum(x*rated), axis=1)\n",
    "    simlilarity_sum=r_ur_corr_matt.apply(np.sum, axis=1)\n",
    "    pred=(simlilarity_dot_weight/simlilarity_sum).sort_values(ascending=False)\n",
    "    reccomendation=pd.concat([movies.set_index('MOVIEID'), pred], axis=1).sort_values(by=0, ascending=False)\n",
    "    movies=reccomendation[page * 8: page * 8 + 8]\n",
    "    images=movies['POSTER'].tolist()\n",
    "    return reccomendation"
   ]
  },
  {
   "cell_type": "code",
   "execution_count": 4,
   "metadata": {},
   "outputs": [],
   "source": [
    "from matplotlib import image\n",
    "from sklearn.decomposition import TruncatedSVD\n",
    "\n",
    "from scipy.sparse.linalg import svds\n",
    "import sqlite3\n",
    "import pandas as pd\n",
    "import numpy as np\n",
    "import requests\n",
    "page=1\n",
    "user=611\n",
    "db = sqlite3.connect(\"E:/Movie-Recommender-master/Item-Based Collaborative filtering fix/instance/flaskr.sqlite\")\n",
    "pd.read_sql_query('SELECT * from users',db)\n",
    "ratings = pd.read_sql_query('SELECT userId, movieId, rating FROM ratings',db)\n",
    "ratings.columns = ['USERID', 'MOVIEID', 'RATING']\n",
    "#Ambil data movies dari sqlite dengan querry \"SELECT * FROM review\" dan simpan ke pandas dataframe\n",
    "movies = pd.read_sql_query('SELECT * FROM movies', db)\n",
    "movies.columns = ['MOVIEID', 'TITLE', 'GENRES', 'POSTER']\n",
    "try:\n",
    "    combined_movies_data = pd.merge(ratings, movies, how='inner', on='MOVIEID')#merge data rating dan data movie pada movieId\n",
    "    #Buat pivot table untuk rating menggunakan userId sebagai index dan movieId sebagai kolom\n",
    "    rating_crosstab = combined_movies_data.pivot_table(index='USERID', columns='MOVIEID', values='RATING').fillna(0)\n",
    "    #lakukan transpose dan dimesionality reduction dengan menggunakan fungsi SVD ke tabel pivot yang telah dibuat\n",
    "    X = rating_crosstab.T\n",
    "    SVD = TruncatedSVD(n_components=12, random_state=5)\n",
    "    resultant_matrix = SVD.fit_transform(X)\n",
    "\n",
    "    #cari korelasi antar film menggunakan pearson correlation menggunakan fungsi corrcoef pada library numpy\n",
    "    corr_mat = np.corrcoef(resultant_matrix)\n",
    "    corr_mat = pd.DataFrame(corr_mat, columns = rating_crosstab.columns.tolist(), index = rating_crosstab.columns.tolist())\n",
    "    #cari data user yang akan diberi rekomendasi berdasarkan rating film tertinggi yang diberikan \n",
    "    userId=user\n",
    "    unrated=X[userId].loc[X[userId]==0]\n",
    "    rated=X[userId].loc[X[userId]>0]\n",
    "except:\n",
    "    reccomendation=movies\n"
   ]
  },
  {
   "cell_type": "code",
   "execution_count": 5,
   "metadata": {},
   "outputs": [
    {
     "data": {
      "text/html": [
       "<div>\n",
       "<style scoped>\n",
       "    .dataframe tbody tr th:only-of-type {\n",
       "        vertical-align: middle;\n",
       "    }\n",
       "\n",
       "    .dataframe tbody tr th {\n",
       "        vertical-align: top;\n",
       "    }\n",
       "\n",
       "    .dataframe thead th {\n",
       "        text-align: right;\n",
       "    }\n",
       "</style>\n",
       "<table border=\"1\" class=\"dataframe\">\n",
       "  <thead>\n",
       "    <tr style=\"text-align: right;\">\n",
       "      <th></th>\n",
       "      <th>MOVIEID</th>\n",
       "      <th>TITLE</th>\n",
       "      <th>GENRES</th>\n",
       "      <th>POSTER</th>\n",
       "    </tr>\n",
       "  </thead>\n",
       "  <tbody>\n",
       "    <tr>\n",
       "      <th>0</th>\n",
       "      <td>1</td>\n",
       "      <td>Toy Story (1995)</td>\n",
       "      <td>Adventure|Animation|Children|Comedy|Fantasy</td>\n",
       "      <td>https://image.tmdb.org/t/p/w500/uXDfjJbdP4ijW5...</td>\n",
       "    </tr>\n",
       "    <tr>\n",
       "      <th>1</th>\n",
       "      <td>2</td>\n",
       "      <td>Jumanji (1995)</td>\n",
       "      <td>Adventure|Children|Fantasy</td>\n",
       "      <td>https://image.tmdb.org/t/p/w500/z46R8oShx61gXM...</td>\n",
       "    </tr>\n",
       "    <tr>\n",
       "      <th>2</th>\n",
       "      <td>3</td>\n",
       "      <td>Grumpier Old Men (1995)</td>\n",
       "      <td>Comedy|Romance</td>\n",
       "      <td>https://image.tmdb.org/t/p/w500/1FSXpj5e8l4KH6...</td>\n",
       "    </tr>\n",
       "    <tr>\n",
       "      <th>3</th>\n",
       "      <td>4</td>\n",
       "      <td>Waiting to Exhale (1995)</td>\n",
       "      <td>Comedy|Drama|Romance</td>\n",
       "      <td>https://image.tmdb.org/t/p/w500/4wjGMwPsdlvi02...</td>\n",
       "    </tr>\n",
       "    <tr>\n",
       "      <th>4</th>\n",
       "      <td>5</td>\n",
       "      <td>Father of the Bride Part II (1995)</td>\n",
       "      <td>Comedy</td>\n",
       "      <td>https://image.tmdb.org/t/p/w500/rj4LBtwQ0uGrpB...</td>\n",
       "    </tr>\n",
       "    <tr>\n",
       "      <th>...</th>\n",
       "      <td>...</td>\n",
       "      <td>...</td>\n",
       "      <td>...</td>\n",
       "      <td>...</td>\n",
       "    </tr>\n",
       "    <tr>\n",
       "      <th>9737</th>\n",
       "      <td>193581</td>\n",
       "      <td>Black Butler: Book of the Atlantic (2017)</td>\n",
       "      <td>Action|Animation|Comedy|Fantasy</td>\n",
       "      <td>https://image.tmdb.org/t/p/w500/4jU2Bdk1MB2OvP...</td>\n",
       "    </tr>\n",
       "    <tr>\n",
       "      <th>9738</th>\n",
       "      <td>193583</td>\n",
       "      <td>No Game No Life: Zero (2017)</td>\n",
       "      <td>Animation|Comedy|Fantasy</td>\n",
       "      <td>https://image.tmdb.org/t/p/w500/cCBB6BGRj5nCTa...</td>\n",
       "    </tr>\n",
       "    <tr>\n",
       "      <th>9739</th>\n",
       "      <td>193585</td>\n",
       "      <td>Flint (2017)</td>\n",
       "      <td>Drama</td>\n",
       "      <td>https://image.tmdb.org/t/p/w500/iPzkjNWpK7ud5p...</td>\n",
       "    </tr>\n",
       "    <tr>\n",
       "      <th>9740</th>\n",
       "      <td>193587</td>\n",
       "      <td>Bungo Stray Dogs: Dead Apple (2018)</td>\n",
       "      <td>Action|Animation</td>\n",
       "      <td>https://image.tmdb.org/t/p/w500/7ueB7Kxq2GObp5...</td>\n",
       "    </tr>\n",
       "    <tr>\n",
       "      <th>9741</th>\n",
       "      <td>193609</td>\n",
       "      <td>Andrew Dice Clay: Dice Rules (1991)</td>\n",
       "      <td>Comedy</td>\n",
       "      <td>https://image.tmdb.org/t/p/w500/isX74cYvlYVDyy...</td>\n",
       "    </tr>\n",
       "  </tbody>\n",
       "</table>\n",
       "<p>9742 rows × 4 columns</p>\n",
       "</div>"
      ],
      "text/plain": [
       "      MOVIEID                                      TITLE  \\\n",
       "0           1                           Toy Story (1995)   \n",
       "1           2                             Jumanji (1995)   \n",
       "2           3                    Grumpier Old Men (1995)   \n",
       "3           4                   Waiting to Exhale (1995)   \n",
       "4           5         Father of the Bride Part II (1995)   \n",
       "...       ...                                        ...   \n",
       "9737   193581  Black Butler: Book of the Atlantic (2017)   \n",
       "9738   193583               No Game No Life: Zero (2017)   \n",
       "9739   193585                               Flint (2017)   \n",
       "9740   193587        Bungo Stray Dogs: Dead Apple (2018)   \n",
       "9741   193609        Andrew Dice Clay: Dice Rules (1991)   \n",
       "\n",
       "                                           GENRES  \\\n",
       "0     Adventure|Animation|Children|Comedy|Fantasy   \n",
       "1                      Adventure|Children|Fantasy   \n",
       "2                                  Comedy|Romance   \n",
       "3                            Comedy|Drama|Romance   \n",
       "4                                          Comedy   \n",
       "...                                           ...   \n",
       "9737              Action|Animation|Comedy|Fantasy   \n",
       "9738                     Animation|Comedy|Fantasy   \n",
       "9739                                        Drama   \n",
       "9740                             Action|Animation   \n",
       "9741                                       Comedy   \n",
       "\n",
       "                                                 POSTER  \n",
       "0     https://image.tmdb.org/t/p/w500/uXDfjJbdP4ijW5...  \n",
       "1     https://image.tmdb.org/t/p/w500/z46R8oShx61gXM...  \n",
       "2     https://image.tmdb.org/t/p/w500/1FSXpj5e8l4KH6...  \n",
       "3     https://image.tmdb.org/t/p/w500/4wjGMwPsdlvi02...  \n",
       "4     https://image.tmdb.org/t/p/w500/rj4LBtwQ0uGrpB...  \n",
       "...                                                 ...  \n",
       "9737  https://image.tmdb.org/t/p/w500/4jU2Bdk1MB2OvP...  \n",
       "9738  https://image.tmdb.org/t/p/w500/cCBB6BGRj5nCTa...  \n",
       "9739  https://image.tmdb.org/t/p/w500/iPzkjNWpK7ud5p...  \n",
       "9740  https://image.tmdb.org/t/p/w500/7ueB7Kxq2GObp5...  \n",
       "9741  https://image.tmdb.org/t/p/w500/isX74cYvlYVDyy...  \n",
       "\n",
       "[9742 rows x 4 columns]"
      ]
     },
     "execution_count": 5,
     "metadata": {},
     "output_type": "execute_result"
    }
   ],
   "source": [
    "reccomendation"
   ]
  },
  {
   "cell_type": "code",
   "execution_count": 7,
   "metadata": {},
   "outputs": [
    {
     "data": {
      "text/plain": [
       "MOVIEID\n",
       "1         5.0\n",
       "6         5.0\n",
       "16        4.5\n",
       "32        4.5\n",
       "47        5.0\n",
       "         ... \n",
       "166534    4.0\n",
       "168248    5.0\n",
       "168250    5.0\n",
       "168252    5.0\n",
       "170875    3.0\n",
       "Name: 610, Length: 1302, dtype: float64"
      ]
     },
     "execution_count": 7,
     "metadata": {},
     "output_type": "execute_result"
    }
   ],
   "source": [
    "rated"
   ]
  },
  {
   "cell_type": "code",
   "execution_count": 6,
   "metadata": {},
   "outputs": [
    {
     "name": "stdout",
     "output_type": "stream",
     "text": [
      "User 1 has already rated 238 movies.\n",
      "Recommending the highest 50 predicted ratings movies not already rated.\n"
     ]
    },
    {
     "data": {
      "text/html": [
       "<div>\n",
       "<style scoped>\n",
       "    .dataframe tbody tr th:only-of-type {\n",
       "        vertical-align: middle;\n",
       "    }\n",
       "\n",
       "    .dataframe tbody tr th {\n",
       "        vertical-align: top;\n",
       "    }\n",
       "\n",
       "    .dataframe thead th {\n",
       "        text-align: right;\n",
       "    }\n",
       "</style>\n",
       "<table border=\"1\" class=\"dataframe\">\n",
       "  <thead>\n",
       "    <tr style=\"text-align: right;\">\n",
       "      <th></th>\n",
       "      <th>MOVIEID</th>\n",
       "      <th>TITLE</th>\n",
       "      <th>GENRES</th>\n",
       "    </tr>\n",
       "  </thead>\n",
       "  <tbody>\n",
       "    <tr>\n",
       "      <th>2759</th>\n",
       "      <td>4011</td>\n",
       "      <td>Snatch (2000)</td>\n",
       "      <td>Comedy|Crime|Thriller</td>\n",
       "    </tr>\n",
       "    <tr>\n",
       "      <th>1411</th>\n",
       "      <td>2081</td>\n",
       "      <td>Little Mermaid, The (1989)</td>\n",
       "      <td>Animation|Children|Comedy|Musical|Romance</td>\n",
       "    </tr>\n",
       "    <tr>\n",
       "      <th>825</th>\n",
       "      <td>1200</td>\n",
       "      <td>Aliens (1986)</td>\n",
       "      <td>Action|Adventure|Horror|Sci-Fi</td>\n",
       "    </tr>\n",
       "    <tr>\n",
       "      <th>1415</th>\n",
       "      <td>2085</td>\n",
       "      <td>101 Dalmatians (One Hundred and One Dalmatians...</td>\n",
       "      <td>Adventure|Animation|Children</td>\n",
       "    </tr>\n",
       "    <tr>\n",
       "      <th>469</th>\n",
       "      <td>589</td>\n",
       "      <td>Terminator 2: Judgment Day (1991)</td>\n",
       "      <td>Action|Sci-Fi</td>\n",
       "    </tr>\n",
       "    <tr>\n",
       "      <th>1102</th>\n",
       "      <td>1610</td>\n",
       "      <td>Hunt for Red October, The (1990)</td>\n",
       "      <td>Action|Adventure|Thriller</td>\n",
       "    </tr>\n",
       "    <tr>\n",
       "      <th>767</th>\n",
       "      <td>1101</td>\n",
       "      <td>Top Gun (1986)</td>\n",
       "      <td>Action|Romance</td>\n",
       "    </tr>\n",
       "    <tr>\n",
       "      <th>983</th>\n",
       "      <td>1407</td>\n",
       "      <td>Scream (1996)</td>\n",
       "      <td>Comedy|Horror|Mystery|Thriller</td>\n",
       "    </tr>\n",
       "  </tbody>\n",
       "</table>\n",
       "</div>"
      ],
      "text/plain": [
       "      MOVIEID                                              TITLE  \\\n",
       "2759     4011                                      Snatch (2000)   \n",
       "1411     2081                         Little Mermaid, The (1989)   \n",
       "825      1200                                      Aliens (1986)   \n",
       "1415     2085  101 Dalmatians (One Hundred and One Dalmatians...   \n",
       "469       589                  Terminator 2: Judgment Day (1991)   \n",
       "1102     1610                   Hunt for Red October, The (1990)   \n",
       "767      1101                                     Top Gun (1986)   \n",
       "983      1407                                      Scream (1996)   \n",
       "\n",
       "                                         GENRES  \n",
       "2759                      Comedy|Crime|Thriller  \n",
       "1411  Animation|Children|Comedy|Musical|Romance  \n",
       "825              Action|Adventure|Horror|Sci-Fi  \n",
       "1415               Adventure|Animation|Children  \n",
       "469                               Action|Sci-Fi  \n",
       "1102                  Action|Adventure|Thriller  \n",
       "767                              Action|Romance  \n",
       "983              Comedy|Horror|Mystery|Thriller  "
      ]
     },
     "execution_count": 6,
     "metadata": {},
     "output_type": "execute_result"
    }
   ],
   "source": [
    "movies1=recommended()\n",
    "movies1"
   ]
  },
  {
   "cell_type": "code",
   "execution_count": 9,
   "metadata": {},
   "outputs": [
    {
     "data": {
      "text/plain": [
       "2085"
      ]
     },
     "execution_count": 9,
     "metadata": {},
     "output_type": "execute_result"
    }
   ],
   "source": [
    "movies1.iloc[3]['MOVIEID']"
   ]
  },
  {
   "cell_type": "code",
   "execution_count": 2,
   "metadata": {},
   "outputs": [],
   "source": [
    "def recommended():\n",
    "    page = request.args.get('page', 1, type=int)\n",
    "\n",
    "    if page is None:\n",
    "        page = 1\n",
    "\n",
    "    db = get_db()\n",
    "\n",
    "    #Ambil data ratings dari sqlite dengan querry \"SELECT * FROM review\" dan simpan ke pandas dataframe\n",
    "    ratings = pd.read_sql_query('SELECT userId, movieId, rating FROM ratings',db)\n",
    "    ratings.columns = ['USERID', 'MOVIEID', 'RATING']\n",
    "    #Ambil data movies dari sqlite dengan querry \"SELECT * FROM review\" dan simpan ke pandas dataframe\n",
    "    movies = pd.read_sql_query('SELECT * FROM movies', db)\n",
    "    movies.columns = ['MOVIEID', 'TITLE', 'GENRES', 'POSTER']\n",
    "\n",
    "    combined_movies_data = pd.merge(ratings, movies, how='inner', on='MOVIEID')#merge data rating dan data movie pada movieId\n",
    "    #Buat pivot table untuk rating menggunakan userId sebagai index dan movieId sebagai kolom\n",
    "    rating_crosstab = combined_movies_data.pivot_table(index='USERID', columns='MOVIEID', values='RATING').fillna(0)\n",
    "    #lakukan transpose dan dimesionality reduction dengan menggunakan fungsi SVD ke tabel pivot yang telah dibuat\n",
    "    X = rating_crosstab.T\n",
    "    SVD = TruncatedSVD(n_components=12, random_state=5)\n",
    "    resultant_matrix = SVD.fit_transform(X)\n",
    "\n",
    "    #cari korelasi antar film menggunakan pearson correlation menggunakan fungsi corrcoef pada library numpy\n",
    "    corr_mat = np.corrcoef(resultant_matrix)\n",
    "    corr_mat = pd.DataFrame(corr_mat, columns = rating_crosstab.columns.tolist(), index = rating_crosstab.columns.tolist())\n",
    "    #cari data user yang akan diberi rekomendasi berdasarkan rating film tertinggi yang diberikan \n",
    "    userId=5\n",
    "    unrated=X[userId].loc[X[userId]==0]\n",
    "    rated=X[userId].loc[X[userId]>0]\n",
    "    #buat pivot table dengan menggunakan movieId yang sudah dirating sebagai kolom dan movieId yang belum dirating sebagai index\n",
    "    r_ur_corr_matt=corr_mat[rated.index].loc[unrated.index]\\\n",
    "                .apply(lambda x: x.nlargest(5), axis=1).fillna(0)#cari nilai similarity pada 10 item yang sudah \n",
    "\n",
    "    simlilarity_dot_weight=r_ur_corr_matt.apply(lambda x: sum(x*rated), axis=1)\n",
    "    simlilarity_sum=r_ur_corr_matt.apply(np.sum, axis=1)\n",
    "    pred=(simlilarity_dot_weight/simlilarity_sum).sort_values(ascending=False)\n",
    "    reccomendation=pd.concat([movies.set_index('MOVIEID'), pred], axis=1).sort_values(by=0, ascending=False)\n",
    "    movies=reccomendation[page * 8: page * 8 + 8]\n",
    "    images=movies['POSTER'].tolist()"
   ]
  },
  {
   "cell_type": "code",
   "execution_count": null,
   "metadata": {},
   "outputs": [],
   "source": []
  }
 ],
 "metadata": {
  "interpreter": {
   "hash": "dd8a0eca17cf48f5766a881eb4023a5d930a398dd5e973b0565eb17605f3eea4"
  },
  "kernelspec": {
   "display_name": "Python 3.9.9 64-bit",
   "language": "python",
   "name": "python3"
  },
  "language_info": {
   "codemirror_mode": {
    "name": "ipython",
    "version": 3
   },
   "file_extension": ".py",
   "mimetype": "text/x-python",
   "name": "python",
   "nbconvert_exporter": "python",
   "pygments_lexer": "ipython3",
   "version": "3.9.9"
  },
  "orig_nbformat": 4
 },
 "nbformat": 4,
 "nbformat_minor": 2
}
