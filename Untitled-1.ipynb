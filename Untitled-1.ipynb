{
 "cells": [
  {
   "cell_type": "code",
   "execution_count": 7,
   "metadata": {},
   "outputs": [],
   "source": [
    "from matplotlib import image\n",
    "from sklearn.decomposition import TruncatedSVD\n",
    "\n",
    "from scipy.sparse.linalg import svds\n",
    "import sqlite3\n",
    "import pandas as pd\n",
    "import numpy as np\n",
    "import requests\n",
    "user=1\n",
    "db = sqlite3.connect(\"E:/Test/flaskrr.sqlite\")\n",
    "\n",
    "page=1\n",
    "#Ambil data ratings dari sqlite dengan querry \"SELECT * FROM review\" dan simpan ke pandas dataframe\n",
    "ratings = pd.read_sql_query('SELECT userId, movieId, rating FROM ratings',db)\n",
    "ratings.columns = ['USERID', 'MOVIEID', 'RATING']\n",
    "#Ambil data movies dari sqlite dengan querry \"SELECT * FROM review\" dan simpan ke pandas dataframe\n",
    "movies = pd.read_sql_query('SELECT * FROM movies', db)\n",
    "movies.columns = ['MOVIEID', 'TITLE', 'GENRES', 'POSTER']\n",
    "\n",
    "combined_movies_data = pd.merge(ratings, movies, how='inner', on='MOVIEID')#merge data rating dan data movie pada movieId\n",
    "#Buat pivot table untuk rating menggunakan userId sebagai index dan movieId sebagai kolom\n",
    "rating_crosstab = combined_movies_data.pivot_table(index='USERID', columns='MOVIEID', values='RATING').fillna(0)\n",
    "#lakukan transpose dan dimesionality reduction dengan menggunakan fungsi SVD ke tabel pivot yang telah dibuat\n",
    "X = rating_crosstab.T\n",
    "SVD = TruncatedSVD(n_components=12, random_state=5)\n",
    "resultant_matrix = SVD.fit_transform(X)\n",
    "\n",
    "#cari korelasi antar film menggunakan pearson correlation menggunakan fungsi corrcoef pada library numpy\n",
    "corr_mat = np.corrcoef(resultant_matrix)\n",
    "corr_mat = pd.DataFrame(corr_mat, columns = rating_crosstab.columns.tolist(), index = rating_crosstab.columns.tolist())\n",
    "#cari data user yang akan diberi rekomendasi berdasarkan rating film tertinggi yang diberikan \n",
    "userId=user\n",
    "unrated=X[userId].loc[X[userId]==0]\n",
    "rated=X[userId].loc[X[userId]>0]\n",
    "#buat pivot table dengan menggunakan movieId yang sudah dirating sebagai kolom dan movieId yang belum dirating sebagai index\n",
    "r_ur_corr_matt=corr_mat[rated.index].loc[unrated.index]\\\n",
    "            .apply(lambda x: x.nlargest(5), axis=1).fillna(0)#cari nilai similarity pada 10 item yang sudah \n",
    "\n",
    "simlilarity_dot_weight=r_ur_corr_matt.apply(lambda x: sum(x*rated), axis=1)\n",
    "simlilarity_sum=r_ur_corr_matt.apply(np.sum, axis=1)\n",
    "pred=(simlilarity_dot_weight/simlilarity_sum).sort_values(ascending=False)\n",
    "reccomendation=pd.concat([movies.set_index('MOVIEID'), pred], axis=1).sort_values(by=0, ascending=False)\n",
    "movies=reccomendation[page * 8: page * 8 + 8]\n",
    "images=movies['POSTER'].tolist()\n",
    "\n",
    "\n",
    "#recommended().to_sql(\"rec\"+str(user), db, if_exists='replace')\n",
    "#rec=pd.read_sql_query('SELECT * FROM rec'+str(user),db)"
   ]
  },
  {
   "cell_type": "code",
   "execution_count": 8,
   "metadata": {},
   "outputs": [
    {
     "data": {
      "text/html": [
       "<div>\n",
       "<style scoped>\n",
       "    .dataframe tbody tr th:only-of-type {\n",
       "        vertical-align: middle;\n",
       "    }\n",
       "\n",
       "    .dataframe tbody tr th {\n",
       "        vertical-align: top;\n",
       "    }\n",
       "\n",
       "    .dataframe thead th {\n",
       "        text-align: right;\n",
       "    }\n",
       "</style>\n",
       "<table border=\"1\" class=\"dataframe\">\n",
       "  <thead>\n",
       "    <tr style=\"text-align: right;\">\n",
       "      <th></th>\n",
       "      <th>1</th>\n",
       "      <th>2</th>\n",
       "      <th>3</th>\n",
       "      <th>4</th>\n",
       "      <th>5</th>\n",
       "      <th>6</th>\n",
       "      <th>7</th>\n",
       "      <th>9</th>\n",
       "      <th>29</th>\n",
       "      <th>47</th>\n",
       "      <th>...</th>\n",
       "      <th>3671</th>\n",
       "      <th>3702</th>\n",
       "      <th>3703</th>\n",
       "      <th>3729</th>\n",
       "      <th>3740</th>\n",
       "      <th>3744</th>\n",
       "      <th>3793</th>\n",
       "      <th>3809</th>\n",
       "      <th>4006</th>\n",
       "      <th>5060</th>\n",
       "    </tr>\n",
       "    <tr>\n",
       "      <th>MOVIEID</th>\n",
       "      <th></th>\n",
       "      <th></th>\n",
       "      <th></th>\n",
       "      <th></th>\n",
       "      <th></th>\n",
       "      <th></th>\n",
       "      <th></th>\n",
       "      <th></th>\n",
       "      <th></th>\n",
       "      <th></th>\n",
       "      <th></th>\n",
       "      <th></th>\n",
       "      <th></th>\n",
       "      <th></th>\n",
       "      <th></th>\n",
       "      <th></th>\n",
       "      <th></th>\n",
       "      <th></th>\n",
       "      <th></th>\n",
       "      <th></th>\n",
       "      <th></th>\n",
       "    </tr>\n",
       "  </thead>\n",
       "  <tbody>\n",
       "    <tr>\n",
       "      <th>8</th>\n",
       "      <td>0.0</td>\n",
       "      <td>0.000000</td>\n",
       "      <td>0.0</td>\n",
       "      <td>0.0</td>\n",
       "      <td>0.0</td>\n",
       "      <td>0.0</td>\n",
       "      <td>0.000000</td>\n",
       "      <td>0.0</td>\n",
       "      <td>0.0</td>\n",
       "      <td>0.000000</td>\n",
       "      <td>...</td>\n",
       "      <td>0.0</td>\n",
       "      <td>0.0</td>\n",
       "      <td>0.0</td>\n",
       "      <td>0.0</td>\n",
       "      <td>0.000000</td>\n",
       "      <td>0.0</td>\n",
       "      <td>0.0</td>\n",
       "      <td>0.0</td>\n",
       "      <td>0.0</td>\n",
       "      <td>0.0</td>\n",
       "    </tr>\n",
       "    <tr>\n",
       "      <th>10</th>\n",
       "      <td>0.0</td>\n",
       "      <td>0.000000</td>\n",
       "      <td>0.0</td>\n",
       "      <td>0.0</td>\n",
       "      <td>0.0</td>\n",
       "      <td>0.0</td>\n",
       "      <td>0.000000</td>\n",
       "      <td>0.0</td>\n",
       "      <td>0.0</td>\n",
       "      <td>0.000000</td>\n",
       "      <td>...</td>\n",
       "      <td>0.0</td>\n",
       "      <td>0.0</td>\n",
       "      <td>0.0</td>\n",
       "      <td>0.0</td>\n",
       "      <td>0.000000</td>\n",
       "      <td>0.0</td>\n",
       "      <td>0.0</td>\n",
       "      <td>0.0</td>\n",
       "      <td>0.0</td>\n",
       "      <td>0.0</td>\n",
       "    </tr>\n",
       "    <tr>\n",
       "      <th>11</th>\n",
       "      <td>0.0</td>\n",
       "      <td>0.000000</td>\n",
       "      <td>0.0</td>\n",
       "      <td>0.0</td>\n",
       "      <td>0.0</td>\n",
       "      <td>0.0</td>\n",
       "      <td>0.934141</td>\n",
       "      <td>0.0</td>\n",
       "      <td>0.0</td>\n",
       "      <td>0.000000</td>\n",
       "      <td>...</td>\n",
       "      <td>0.0</td>\n",
       "      <td>0.0</td>\n",
       "      <td>0.0</td>\n",
       "      <td>0.0</td>\n",
       "      <td>0.000000</td>\n",
       "      <td>0.0</td>\n",
       "      <td>0.0</td>\n",
       "      <td>0.0</td>\n",
       "      <td>0.0</td>\n",
       "      <td>0.0</td>\n",
       "    </tr>\n",
       "    <tr>\n",
       "      <th>12</th>\n",
       "      <td>0.0</td>\n",
       "      <td>0.000000</td>\n",
       "      <td>0.0</td>\n",
       "      <td>0.0</td>\n",
       "      <td>0.0</td>\n",
       "      <td>0.0</td>\n",
       "      <td>0.000000</td>\n",
       "      <td>0.0</td>\n",
       "      <td>0.0</td>\n",
       "      <td>0.000000</td>\n",
       "      <td>...</td>\n",
       "      <td>0.0</td>\n",
       "      <td>0.0</td>\n",
       "      <td>0.0</td>\n",
       "      <td>0.0</td>\n",
       "      <td>0.827001</td>\n",
       "      <td>0.0</td>\n",
       "      <td>0.0</td>\n",
       "      <td>0.0</td>\n",
       "      <td>0.0</td>\n",
       "      <td>0.0</td>\n",
       "    </tr>\n",
       "    <tr>\n",
       "      <th>13</th>\n",
       "      <td>0.0</td>\n",
       "      <td>0.766798</td>\n",
       "      <td>0.0</td>\n",
       "      <td>0.0</td>\n",
       "      <td>0.0</td>\n",
       "      <td>0.0</td>\n",
       "      <td>0.745366</td>\n",
       "      <td>0.0</td>\n",
       "      <td>0.0</td>\n",
       "      <td>0.000000</td>\n",
       "      <td>...</td>\n",
       "      <td>0.0</td>\n",
       "      <td>0.0</td>\n",
       "      <td>0.0</td>\n",
       "      <td>0.0</td>\n",
       "      <td>0.000000</td>\n",
       "      <td>0.0</td>\n",
       "      <td>0.0</td>\n",
       "      <td>0.0</td>\n",
       "      <td>0.0</td>\n",
       "      <td>0.0</td>\n",
       "    </tr>\n",
       "    <tr>\n",
       "      <th>...</th>\n",
       "      <td>...</td>\n",
       "      <td>...</td>\n",
       "      <td>...</td>\n",
       "      <td>...</td>\n",
       "      <td>...</td>\n",
       "      <td>...</td>\n",
       "      <td>...</td>\n",
       "      <td>...</td>\n",
       "      <td>...</td>\n",
       "      <td>...</td>\n",
       "      <td>...</td>\n",
       "      <td>...</td>\n",
       "      <td>...</td>\n",
       "      <td>...</td>\n",
       "      <td>...</td>\n",
       "      <td>...</td>\n",
       "      <td>...</td>\n",
       "      <td>...</td>\n",
       "      <td>...</td>\n",
       "      <td>...</td>\n",
       "      <td>...</td>\n",
       "    </tr>\n",
       "    <tr>\n",
       "      <th>193581</th>\n",
       "      <td>0.0</td>\n",
       "      <td>0.000000</td>\n",
       "      <td>0.0</td>\n",
       "      <td>0.0</td>\n",
       "      <td>0.0</td>\n",
       "      <td>0.0</td>\n",
       "      <td>0.000000</td>\n",
       "      <td>0.0</td>\n",
       "      <td>0.0</td>\n",
       "      <td>0.000000</td>\n",
       "      <td>...</td>\n",
       "      <td>0.0</td>\n",
       "      <td>0.0</td>\n",
       "      <td>0.0</td>\n",
       "      <td>0.0</td>\n",
       "      <td>0.000000</td>\n",
       "      <td>0.0</td>\n",
       "      <td>0.0</td>\n",
       "      <td>0.0</td>\n",
       "      <td>0.0</td>\n",
       "      <td>0.0</td>\n",
       "    </tr>\n",
       "    <tr>\n",
       "      <th>193583</th>\n",
       "      <td>0.0</td>\n",
       "      <td>0.000000</td>\n",
       "      <td>0.0</td>\n",
       "      <td>0.0</td>\n",
       "      <td>0.0</td>\n",
       "      <td>0.0</td>\n",
       "      <td>0.000000</td>\n",
       "      <td>0.0</td>\n",
       "      <td>0.0</td>\n",
       "      <td>0.000000</td>\n",
       "      <td>...</td>\n",
       "      <td>0.0</td>\n",
       "      <td>0.0</td>\n",
       "      <td>0.0</td>\n",
       "      <td>0.0</td>\n",
       "      <td>0.000000</td>\n",
       "      <td>0.0</td>\n",
       "      <td>0.0</td>\n",
       "      <td>0.0</td>\n",
       "      <td>0.0</td>\n",
       "      <td>0.0</td>\n",
       "    </tr>\n",
       "    <tr>\n",
       "      <th>193585</th>\n",
       "      <td>0.0</td>\n",
       "      <td>0.000000</td>\n",
       "      <td>0.0</td>\n",
       "      <td>0.0</td>\n",
       "      <td>0.0</td>\n",
       "      <td>0.0</td>\n",
       "      <td>0.000000</td>\n",
       "      <td>0.0</td>\n",
       "      <td>0.0</td>\n",
       "      <td>0.000000</td>\n",
       "      <td>...</td>\n",
       "      <td>0.0</td>\n",
       "      <td>0.0</td>\n",
       "      <td>0.0</td>\n",
       "      <td>0.0</td>\n",
       "      <td>0.000000</td>\n",
       "      <td>0.0</td>\n",
       "      <td>0.0</td>\n",
       "      <td>0.0</td>\n",
       "      <td>0.0</td>\n",
       "      <td>0.0</td>\n",
       "    </tr>\n",
       "    <tr>\n",
       "      <th>193587</th>\n",
       "      <td>0.0</td>\n",
       "      <td>0.000000</td>\n",
       "      <td>0.0</td>\n",
       "      <td>0.0</td>\n",
       "      <td>0.0</td>\n",
       "      <td>0.0</td>\n",
       "      <td>0.000000</td>\n",
       "      <td>0.0</td>\n",
       "      <td>0.0</td>\n",
       "      <td>0.000000</td>\n",
       "      <td>...</td>\n",
       "      <td>0.0</td>\n",
       "      <td>0.0</td>\n",
       "      <td>0.0</td>\n",
       "      <td>0.0</td>\n",
       "      <td>0.000000</td>\n",
       "      <td>0.0</td>\n",
       "      <td>0.0</td>\n",
       "      <td>0.0</td>\n",
       "      <td>0.0</td>\n",
       "      <td>0.0</td>\n",
       "    </tr>\n",
       "    <tr>\n",
       "      <th>193609</th>\n",
       "      <td>0.0</td>\n",
       "      <td>0.000000</td>\n",
       "      <td>0.0</td>\n",
       "      <td>0.0</td>\n",
       "      <td>0.0</td>\n",
       "      <td>0.0</td>\n",
       "      <td>0.000000</td>\n",
       "      <td>0.0</td>\n",
       "      <td>0.0</td>\n",
       "      <td>0.364351</td>\n",
       "      <td>...</td>\n",
       "      <td>0.0</td>\n",
       "      <td>0.0</td>\n",
       "      <td>0.0</td>\n",
       "      <td>0.0</td>\n",
       "      <td>0.000000</td>\n",
       "      <td>0.0</td>\n",
       "      <td>0.0</td>\n",
       "      <td>0.0</td>\n",
       "      <td>0.0</td>\n",
       "      <td>0.0</td>\n",
       "    </tr>\n",
       "  </tbody>\n",
       "</table>\n",
       "<p>9486 rows × 238 columns</p>\n",
       "</div>"
      ],
      "text/plain": [
       "         1         2     3     4     5     6         7     9     29    \\\n",
       "MOVIEID                                                                 \n",
       "8         0.0  0.000000   0.0   0.0   0.0   0.0  0.000000   0.0   0.0   \n",
       "10        0.0  0.000000   0.0   0.0   0.0   0.0  0.000000   0.0   0.0   \n",
       "11        0.0  0.000000   0.0   0.0   0.0   0.0  0.934141   0.0   0.0   \n",
       "12        0.0  0.000000   0.0   0.0   0.0   0.0  0.000000   0.0   0.0   \n",
       "13        0.0  0.766798   0.0   0.0   0.0   0.0  0.745366   0.0   0.0   \n",
       "...       ...       ...   ...   ...   ...   ...       ...   ...   ...   \n",
       "193581    0.0  0.000000   0.0   0.0   0.0   0.0  0.000000   0.0   0.0   \n",
       "193583    0.0  0.000000   0.0   0.0   0.0   0.0  0.000000   0.0   0.0   \n",
       "193585    0.0  0.000000   0.0   0.0   0.0   0.0  0.000000   0.0   0.0   \n",
       "193587    0.0  0.000000   0.0   0.0   0.0   0.0  0.000000   0.0   0.0   \n",
       "193609    0.0  0.000000   0.0   0.0   0.0   0.0  0.000000   0.0   0.0   \n",
       "\n",
       "             47    ...  3671  3702  3703  3729      3740  3744  3793  3809  \\\n",
       "MOVIEID            ...                                                       \n",
       "8        0.000000  ...   0.0   0.0   0.0   0.0  0.000000   0.0   0.0   0.0   \n",
       "10       0.000000  ...   0.0   0.0   0.0   0.0  0.000000   0.0   0.0   0.0   \n",
       "11       0.000000  ...   0.0   0.0   0.0   0.0  0.000000   0.0   0.0   0.0   \n",
       "12       0.000000  ...   0.0   0.0   0.0   0.0  0.827001   0.0   0.0   0.0   \n",
       "13       0.000000  ...   0.0   0.0   0.0   0.0  0.000000   0.0   0.0   0.0   \n",
       "...           ...  ...   ...   ...   ...   ...       ...   ...   ...   ...   \n",
       "193581   0.000000  ...   0.0   0.0   0.0   0.0  0.000000   0.0   0.0   0.0   \n",
       "193583   0.000000  ...   0.0   0.0   0.0   0.0  0.000000   0.0   0.0   0.0   \n",
       "193585   0.000000  ...   0.0   0.0   0.0   0.0  0.000000   0.0   0.0   0.0   \n",
       "193587   0.000000  ...   0.0   0.0   0.0   0.0  0.000000   0.0   0.0   0.0   \n",
       "193609   0.364351  ...   0.0   0.0   0.0   0.0  0.000000   0.0   0.0   0.0   \n",
       "\n",
       "         4006  5060  \n",
       "MOVIEID              \n",
       "8         0.0   0.0  \n",
       "10        0.0   0.0  \n",
       "11        0.0   0.0  \n",
       "12        0.0   0.0  \n",
       "13        0.0   0.0  \n",
       "...       ...   ...  \n",
       "193581    0.0   0.0  \n",
       "193583    0.0   0.0  \n",
       "193585    0.0   0.0  \n",
       "193587    0.0   0.0  \n",
       "193609    0.0   0.0  \n",
       "\n",
       "[9486 rows x 238 columns]"
      ]
     },
     "execution_count": 8,
     "metadata": {},
     "output_type": "execute_result"
    }
   ],
   "source": [
    "r_ur_corr_matt"
   ]
  },
  {
   "cell_type": "code",
   "execution_count": 22,
   "metadata": {},
   "outputs": [
    {
     "name": "stdout",
     "output_type": "stream",
     "text": [
      "1 1\n",
      "1 3\n",
      "1 4\n",
      "1 5\n",
      "1 6\n",
      "1 7\n",
      "1 8\n",
      "2 1\n",
      "2 3\n",
      "2 5\n",
      "2 6\n",
      "2 7\n",
      "2 8\n",
      "3 1\n",
      "3 3\n",
      "3 5\n",
      "3 7\n",
      "3 8\n",
      "4 1\n",
      "4 3\n",
      "4 5\n",
      "4 7\n"
     ]
    },
    {
     "ename": "IndexError",
     "evalue": "pop index out of range",
     "output_type": "error",
     "traceback": [
      "\u001b[1;31m---------------------------------------------------------------------------\u001b[0m",
      "\u001b[1;31mIndexError\u001b[0m                                Traceback (most recent call last)",
      "\u001b[1;32m~\\AppData\\Local\\Temp/ipykernel_4392/2368695392.py\u001b[0m in \u001b[0;36m<module>\u001b[1;34m\u001b[0m\n\u001b[0;32m      2\u001b[0m \u001b[0marray2\u001b[0m\u001b[1;33m=\u001b[0m\u001b[1;33m[\u001b[0m\u001b[1;36m1\u001b[0m\u001b[1;33m,\u001b[0m\u001b[1;36m2\u001b[0m\u001b[1;33m,\u001b[0m\u001b[1;36m3\u001b[0m\u001b[1;33m,\u001b[0m\u001b[1;36m4\u001b[0m\u001b[1;33m,\u001b[0m\u001b[1;36m5\u001b[0m\u001b[1;33m,\u001b[0m\u001b[1;36m6\u001b[0m\u001b[1;33m,\u001b[0m\u001b[1;36m7\u001b[0m\u001b[1;33m,\u001b[0m\u001b[1;36m8\u001b[0m\u001b[1;33m]\u001b[0m\u001b[1;33m\u001b[0m\u001b[1;33m\u001b[0m\u001b[0m\n\u001b[0;32m      3\u001b[0m \u001b[1;32mfor\u001b[0m \u001b[0mi\u001b[0m \u001b[1;32min\u001b[0m \u001b[0marray1\u001b[0m\u001b[1;33m:\u001b[0m\u001b[1;33m\u001b[0m\u001b[1;33m\u001b[0m\u001b[0m\n\u001b[1;32m----> 4\u001b[1;33m     \u001b[0marray2\u001b[0m\u001b[1;33m.\u001b[0m\u001b[0mpop\u001b[0m\u001b[1;33m(\u001b[0m\u001b[0mi\u001b[0m\u001b[1;33m)\u001b[0m\u001b[1;33m\u001b[0m\u001b[1;33m\u001b[0m\u001b[0m\n\u001b[0m\u001b[0;32m      5\u001b[0m     \u001b[1;32mfor\u001b[0m \u001b[0mj\u001b[0m \u001b[1;32min\u001b[0m \u001b[0marray2\u001b[0m\u001b[1;33m:\u001b[0m\u001b[1;33m\u001b[0m\u001b[1;33m\u001b[0m\u001b[0m\n\u001b[0;32m      6\u001b[0m         \u001b[0mprint\u001b[0m\u001b[1;33m(\u001b[0m\u001b[0mi\u001b[0m\u001b[1;33m,\u001b[0m\u001b[0mj\u001b[0m\u001b[1;33m)\u001b[0m\u001b[1;33m\u001b[0m\u001b[1;33m\u001b[0m\u001b[0m\n",
      "\u001b[1;31mIndexError\u001b[0m: pop index out of range"
     ]
    }
   ],
   "source": [
    "array1=[1,2,3,4,5,6,7,8]\n",
    "array2=[1,2,3,4,5,6,7,8]\n",
    "for i in array1:\n",
    "    array2.pop(i)\n",
    "    for j in array2:\n",
    "        print(i,j)\n",
    "        "
   ]
  },
  {
   "cell_type": "code",
   "execution_count": 2,
   "metadata": {},
   "outputs": [],
   "source": [
    "import sqlite3\n",
    "import pandas as pd\n",
    "db = sqlite3.connect(\"E:/Test/flaskrr.sqlite\")"
   ]
  },
  {
   "cell_type": "code",
   "execution_count": null,
   "metadata": {},
   "outputs": [],
   "source": [
    "users=pd.read_sql_query('SELECT * from users',db)\n",
    "users=users.set_index('id')"
   ]
  },
  {
   "cell_type": "code",
   "execution_count": null,
   "metadata": {},
   "outputs": [],
   "source": [
    "from sqlalchemy import create_engine\n",
    "engine = create_engine('sqlite:///flaskrrr.sqlite', echo=False)"
   ]
  },
  {
   "cell_type": "code",
   "execution_count": null,
   "metadata": {},
   "outputs": [],
   "source": [
    "users.to_sql(\"users\", engine, schema=None, if_exists='replace', index=False)"
   ]
  },
  {
   "cell_type": "code",
   "execution_count": null,
   "metadata": {},
   "outputs": [],
   "source": [
    "ratings=pd.read_sql_query('SELECT * from ratings',db)\n",
    "movies=pd.read_sql_query('SELECT * from movies',db)"
   ]
  },
  {
   "cell_type": "code",
   "execution_count": null,
   "metadata": {},
   "outputs": [],
   "source": [
    "ratings.to_sql(\"ratings\", engine, schema=None, if_exists='replace')\n",
    "movies.to_sql(\"movies\", engine, schema=None, if_exists='replace')"
   ]
  },
  {
   "cell_type": "code",
   "execution_count": null,
   "metadata": {},
   "outputs": [],
   "source": [
    "import sqlite3\n",
    "db = sqlite3.connect(\"E:/Movie-Recommender-master/Item-Based Collaborative filtering fix/instance/flaskr.sqlite\")"
   ]
  },
  {
   "cell_type": "code",
   "execution_count": 8,
   "metadata": {},
   "outputs": [],
   "source": [
    "import pandas as pd\n",
    "movie=db.execute('SELECT * FROM movies')"
   ]
  },
  {
   "cell_type": "code",
   "execution_count": 10,
   "metadata": {},
   "outputs": [
    {
     "ename": "AttributeError",
     "evalue": "'sqlite3.Cursor' object has no attribute 'query'",
     "output_type": "error",
     "traceback": [
      "\u001b[1;31m---------------------------------------------------------------------------\u001b[0m",
      "\u001b[1;31mAttributeError\u001b[0m                            Traceback (most recent call last)",
      "\u001b[1;32m~\\AppData\\Local\\Temp/ipykernel_17460/2249736201.py\u001b[0m in \u001b[0;36m<module>\u001b[1;34m\u001b[0m\n\u001b[1;32m----> 1\u001b[1;33m \u001b[0mmovie\u001b[0m\u001b[1;33m.\u001b[0m\u001b[0mquery\u001b[0m\u001b[1;33m(\u001b[0m\u001b[0mmovie\u001b[0m\u001b[1;33m)\u001b[0m\u001b[1;33m.\u001b[0m\u001b[0mfilter_by\u001b[0m\u001b[1;33m(\u001b[0m\u001b[0mname\u001b[0m\u001b[1;33m=\u001b[0m\u001b[1;34m'Bob'\u001b[0m\u001b[1;33m)\u001b[0m\u001b[1;33m\u001b[0m\u001b[1;33m\u001b[0m\u001b[0m\n\u001b[0m",
      "\u001b[1;31mAttributeError\u001b[0m: 'sqlite3.Cursor' object has no attribute 'query'"
     ]
    }
   ],
   "source": [
    "movie.query(movie).filter_by(name='Bob')"
   ]
  },
  {
   "cell_type": "code",
   "execution_count": null,
   "metadata": {},
   "outputs": [],
   "source": [
    "keyword = \"toy\"\n",
    "page = 1\n",
    "movies=db.execute('SELECT * FROM movies WHERE title like ? '\n",
    "                'LIMIT ? OFFSET ?',\n",
    "                ((\"%\"+keyword+\"%\"),'18', str((page - 1) * 18), )).fetchall()\n",
    "movies"
   ]
  },
  {
   "cell_type": "code",
   "execution_count": 4,
   "metadata": {},
   "outputs": [
    {
     "name": "stdout",
     "output_type": "stream",
     "text": [
      "3\n"
     ]
    }
   ],
   "source": [
    "import random\n",
    "x = random.randint(1,5)\n",
    "print(x)"
   ]
  },
  {
   "cell_type": "code",
   "execution_count": 184,
   "metadata": {},
   "outputs": [],
   "source": [
    "import numpy as np\n",
    "import pandas as pd\n",
    "data = {'1': [4,5,4,3,4],\n",
    "        '2': [3,4,5,2,3],\n",
    "        '3': [2,3,5,4.5,3.5],\n",
    "        '4': [3,4,5,2,4],\n",
    "        '5': [2.5,3.5,4,5,2],\n",
    "        '6': [2,3,3,4.5,2.5]\n",
    "        }"
   ]
  },
  {
   "cell_type": "code",
   "execution_count": 191,
   "metadata": {},
   "outputs": [
    {
     "data": {
      "text/plain": [
       "[[4.0, 5.0, 4.0, 3.0, 4.0],\n",
       " [3.0, 4.0, 5.0, 2.0, 3.0],\n",
       " [2.0, 3.0, 5.0, 4.5, 3.5],\n",
       " [3.0, 4.0, 5.0, 2.0, 4.0],\n",
       " [2.5, 3.5, 4.0, 5.0, 2.0],\n",
       " [2.0, 3.0, 3.0, 4.5, 2.5]]"
      ]
     },
     "execution_count": 191,
     "metadata": {},
     "output_type": "execute_result"
    }
   ],
   "source": [
    "df = pd.DataFrame(data)\n",
    "test = df.T.values.tolist()\n",
    "test"
   ]
  },
  {
   "cell_type": "code",
   "execution_count": 206,
   "metadata": {},
   "outputs": [],
   "source": [
    "from math import sqrt\n",
    "def corrcoef_by_me(x,y):\n",
    "    avg_x=sum(x)/len(x)\n",
    "    avg_y=sum(y)/len(y)\n",
    "    up=[]\n",
    "    sqrt1=[]\n",
    "    sqrt2=[]\n",
    "    for i in range(len(x)):\n",
    "        up.append((x[i] - avg_x)*(y[i] - avg_y))\n",
    "    for i in range(len(x)):\n",
    "        sqrt1.append((x[i] - avg_x)**2)\n",
    "    for i in range(len(y)):\n",
    "        sqrt2.append((y[i] - avg_y)**2)\n",
    "    corr=sum(up)/sqrt(sum(sqrt1)*sum(sqrt2))\n",
    "    return corr\n",
    "result=[]\n",
    "for i in range(len(test)):\n",
    "    temp = []\n",
    "    for j in range(len(test)):\n",
    "        temp.append(corrcoef_by_me(test[i],test[j]))\n",
    "    result.append(temp)"
   ]
  },
  {
   "cell_type": "code",
   "execution_count": 207,
   "metadata": {},
   "outputs": [
    {
     "data": {
      "text/plain": [
       "[[1.0,\n",
       "  0.6201736729460422,\n",
       "  -0.44426165831931924,\n",
       "  0.6201736729460422,\n",
       "  -0.44426165831931924,\n",
       "  -0.5669467095138409],\n",
       " [0.6201736729460422,\n",
       "  1.0,\n",
       "  0.23878346647045962,\n",
       "  0.9230769230769228,\n",
       "  -0.055103876877798344,\n",
       "  -0.3516054232038715],\n",
       " [-0.44426165831931924,\n",
       "  0.23878346647045962,\n",
       "  1.0,\n",
       "  0.22041550751119346,\n",
       "  0.6666666666666666,\n",
       "  0.6716604942594675],\n",
       " [0.6201736729460422,\n",
       "  0.9230769230769228,\n",
       "  0.22041550751119346,\n",
       "  1.0,\n",
       "  -0.3122553023075242,\n",
       "  -0.4688072309384954],\n",
       " [-0.44426165831931924,\n",
       "  -0.055103876877798344,\n",
       "  0.6666666666666666,\n",
       "  -0.3122553023075242,\n",
       "  1.0,\n",
       "  0.89554732567929],\n",
       " [-0.5669467095138409,\n",
       "  -0.3516054232038715,\n",
       "  0.6716604942594675,\n",
       "  -0.4688072309384954,\n",
       "  0.89554732567929,\n",
       "  1.0]]"
      ]
     },
     "execution_count": 207,
     "metadata": {},
     "output_type": "execute_result"
    }
   ],
   "source": [
    "\n",
    "result"
   ]
  },
  {
   "cell_type": "code",
   "execution_count": 197,
   "metadata": {},
   "outputs": [
    {
     "data": {
      "text/plain": [
       "[[1.0,\n",
       "  0.6201736729460422,\n",
       "  -0.44426165831931924,\n",
       "  0.6201736729460422,\n",
       "  -0.44426165831931924,\n",
       "  -0.5669467095138409],\n",
       " [0.6201736729460422,\n",
       "  1.0,\n",
       "  0.23878346647045962,\n",
       "  0.9230769230769228,\n",
       "  -0.055103876877798344,\n",
       "  -0.3516054232038715],\n",
       " [-0.44426165831931924,\n",
       "  0.23878346647045962,\n",
       "  1.0,\n",
       "  0.22041550751119346,\n",
       "  0.6666666666666666,\n",
       "  0.6716604942594675],\n",
       " [0.6201736729460422,\n",
       "  0.9230769230769228,\n",
       "  0.22041550751119346,\n",
       "  1.0,\n",
       "  -0.3122553023075242,\n",
       "  -0.4688072309384954],\n",
       " [-0.44426165831931924,\n",
       "  -0.055103876877798344,\n",
       "  0.6666666666666666,\n",
       "  -0.3122553023075242,\n",
       "  1.0,\n",
       "  0.89554732567929],\n",
       " [-0.5669467095138409,\n",
       "  -0.3516054232038715,\n",
       "  0.6716604942594675,\n",
       "  -0.4688072309384954,\n",
       "  0.89554732567929,\n",
       "  1.0]]"
      ]
     },
     "execution_count": 197,
     "metadata": {},
     "output_type": "execute_result"
    }
   ],
   "source": [
    "x"
   ]
  },
  {
   "cell_type": "code",
   "execution_count": 194,
   "metadata": {},
   "outputs": [],
   "source": [
    "result=pd.DataFrame(np.corrcoef(test), columns = df.columns.tolist(), index = df.columns.tolist())"
   ]
  },
  {
   "cell_type": "code",
   "execution_count": 164,
   "metadata": {},
   "outputs": [
    {
     "data": {
      "text/plain": [
       "array([[ 1.        ,  0.62017367, -0.44426166,  0.62017367, -0.44426166,\n",
       "        -0.56694671],\n",
       "       [ 0.62017367,  1.        ,  0.23878347,  0.92307692, -0.05510388,\n",
       "        -0.35160542],\n",
       "       [-0.44426166,  0.23878347,  1.        ,  0.22041551,  0.66666667,\n",
       "         0.67166049],\n",
       "       [ 0.62017367,  0.92307692,  0.22041551,  1.        , -0.3122553 ,\n",
       "        -0.46880723],\n",
       "       [-0.44426166, -0.05510388,  0.66666667, -0.3122553 ,  1.        ,\n",
       "         0.89554733],\n",
       "       [-0.56694671, -0.35160542,  0.67166049, -0.46880723,  0.89554733,\n",
       "         1.        ]])"
      ]
     },
     "execution_count": 164,
     "metadata": {},
     "output_type": "execute_result"
    }
   ],
   "source": [
    "np.corrcoef(test)"
   ]
  },
  {
   "cell_type": "code",
   "execution_count": 159,
   "metadata": {},
   "outputs": [
    {
     "data": {
      "text/plain": [
       "array([[ 1.        ,  0.62017367, -0.44426166,  0.62017367, -0.44426166,\n",
       "        -0.56694671],\n",
       "       [ 0.62017367,  1.        ,  0.23878347,  0.92307692, -0.05510388,\n",
       "        -0.35160542],\n",
       "       [-0.44426166,  0.23878347,  1.        ,  0.22041551,  0.66666667,\n",
       "         0.67166049],\n",
       "       [ 0.62017367,  0.92307692,  0.22041551,  1.        , -0.3122553 ,\n",
       "        -0.46880723],\n",
       "       [-0.44426166, -0.05510388,  0.66666667, -0.3122553 ,  1.        ,\n",
       "         0.89554733],\n",
       "       [-0.56694671, -0.35160542,  0.67166049, -0.46880723,  0.89554733,\n",
       "         1.        ]])"
      ]
     },
     "execution_count": 159,
     "metadata": {},
     "output_type": "execute_result"
    }
   ],
   "source": [
    "np.corrcoef(test)"
   ]
  },
  {
   "cell_type": "code",
   "execution_count": 150,
   "metadata": {},
   "outputs": [
    {
     "data": {
      "text/plain": [
       "array([[ 1.        ,  0.62017367, -0.44426166,  0.62017367, -0.44426166,\n",
       "        -0.56694671],\n",
       "       [ 0.62017367,  1.        ,  0.23878347,  0.92307692, -0.05510388,\n",
       "        -0.35160542],\n",
       "       [-0.44426166,  0.23878347,  1.        ,  0.22041551,  0.66666667,\n",
       "         0.67166049],\n",
       "       [ 0.62017367,  0.92307692,  0.22041551,  1.        , -0.3122553 ,\n",
       "        -0.46880723],\n",
       "       [-0.44426166, -0.05510388,  0.66666667, -0.3122553 ,  1.        ,\n",
       "         0.89554733],\n",
       "       [-0.56694671, -0.35160542,  0.67166049, -0.46880723,  0.89554733,\n",
       "         1.        ]])"
      ]
     },
     "execution_count": 150,
     "metadata": {},
     "output_type": "execute_result"
    }
   ],
   "source": [
    "np.corrcoef(test)"
   ]
  },
  {
   "cell_type": "code",
   "execution_count": 121,
   "metadata": {},
   "outputs": [
    {
     "data": {
      "text/plain": [
       "[4.0, 3.0, 3.5, 4.0, 2.0, 2.5]"
      ]
     },
     "execution_count": 121,
     "metadata": {},
     "output_type": "execute_result"
    }
   ],
   "source": []
  },
  {
   "cell_type": "code",
   "execution_count": null,
   "metadata": {},
   "outputs": [],
   "source": [
    "import sqlite3\n",
    "import pandas as pd\n",
    "db = sqlite3.connect(\"E:/Movie-Recommender-master/Item-Based Collaborative filtering fix/instance/flaskr.sqlite\")"
   ]
  },
  {
   "cell_type": "code",
   "execution_count": null,
   "metadata": {},
   "outputs": [],
   "source": [
    "genres=[]\n",
    "movie_name=['war']\n",
    "query=['']\n",
    "for item in movie_name:\n",
    "    query.append('SELECT * FROM movies WHERE title LIKE '+'\"%'+item+'%\"')\n",
    "    if not genres:\n",
    "        query=\"\".join(query)\n",
    "    else:\n",
    "        for item in genres:\n",
    "            query.append(' AND genres LIKE '+'\"%'+item+'%\"')\n",
    "        query=\"\".join(query)\n",
    "query"
   ]
  },
  {
   "cell_type": "code",
   "execution_count": null,
   "metadata": {},
   "outputs": [],
   "source": [
    "print(query+' LIMIT ? OFFSET ?',)"
   ]
  },
  {
   "cell_type": "code",
   "execution_count": null,
   "metadata": {},
   "outputs": [],
   "source": [
    "page=1\n",
    "filter=db.execute(query+' LIMIT ? OFFSET ?',('18', str((page - 1) * 18), )).paginate(per_page=5)\n",
    "filter"
   ]
  },
  {
   "cell_type": "code",
   "execution_count": null,
   "metadata": {},
   "outputs": [],
   "source": [
    "db.execute('SELECT * FROM movies WHERE genres like ? AND genres like ?',((\"%\"+genres[0]+\"%\"),)).fetchall()\n"
   ]
  },
  {
   "cell_type": "code",
   "execution_count": null,
   "metadata": {},
   "outputs": [],
   "source": []
  }
 ],
 "metadata": {
  "interpreter": {
   "hash": "dd8a0eca17cf48f5766a881eb4023a5d930a398dd5e973b0565eb17605f3eea4"
  },
  "kernelspec": {
   "display_name": "Python 3.9.9 64-bit",
   "language": "python",
   "name": "python3"
  },
  "language_info": {
   "codemirror_mode": {
    "name": "ipython",
    "version": 3
   },
   "file_extension": ".py",
   "mimetype": "text/x-python",
   "name": "python",
   "nbconvert_exporter": "python",
   "pygments_lexer": "ipython3",
   "version": "3.9.9"
  },
  "orig_nbformat": 4
 },
 "nbformat": 4,
 "nbformat_minor": 2
}
