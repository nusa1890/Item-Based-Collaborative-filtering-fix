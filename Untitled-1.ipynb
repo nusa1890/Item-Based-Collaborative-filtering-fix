{
 "cells": [
  {
   "cell_type": "code",
   "execution_count": null,
   "metadata": {},
   "outputs": [],
   "source": [
    "from matplotlib import image\n",
    "from sklearn.decomposition import TruncatedSVD\n",
    "\n",
    "from scipy.sparse.linalg import svds\n",
    "import sqlite3\n",
    "import pandas as pd\n",
    "import numpy as np\n",
    "import requests\n",
    "user=2\n",
    "db = sqlite3.connect(\"E:/Test/flaskrr.sqlite\")\n",
    "def recommended():\n",
    "    page=1\n",
    "    #Ambil data ratings dari sqlite dengan querry \"SELECT * FROM review\" dan simpan ke pandas dataframe\n",
    "    ratings = pd.read_sql_query('SELECT userId, movieId, rating FROM ratings',db)\n",
    "    ratings.columns = ['USERID', 'MOVIEID', 'RATING']\n",
    "    #Ambil data movies dari sqlite dengan querry \"SELECT * FROM review\" dan simpan ke pandas dataframe\n",
    "    movies = pd.read_sql_query('SELECT * FROM movies', db)\n",
    "    movies.columns = ['MOVIEID', 'TITLE', 'GENRES', 'POSTER']\n",
    "\n",
    "    combined_movies_data = pd.merge(ratings, movies, how='inner', on='MOVIEID')#merge data rating dan data movie pada movieId\n",
    "    #Buat pivot table untuk rating menggunakan userId sebagai index dan movieId sebagai kolom\n",
    "    rating_crosstab = combined_movies_data.pivot_table(index='USERID', columns='MOVIEID', values='RATING').fillna(0)\n",
    "    #lakukan transpose dan dimesionality reduction dengan menggunakan fungsi SVD ke tabel pivot yang telah dibuat\n",
    "    X = rating_crosstab.T\n",
    "    SVD = TruncatedSVD(n_components=12, random_state=5)\n",
    "    resultant_matrix = SVD.fit_transform(X)\n",
    "\n",
    "    #cari korelasi antar film menggunakan pearson correlation menggunakan fungsi corrcoef pada library numpy\n",
    "    corr_mat = np.corrcoef(resultant_matrix)\n",
    "    corr_mat = pd.DataFrame(corr_mat, columns = rating_crosstab.columns.tolist(), index = rating_crosstab.columns.tolist())\n",
    "    #cari data user yang akan diberi rekomendasi berdasarkan rating film tertinggi yang diberikan \n",
    "    userId=user\n",
    "    unrated=X[userId].loc[X[userId]==0]\n",
    "    rated=X[userId].loc[X[userId]>0]\n",
    "    #buat pivot table dengan menggunakan movieId yang sudah dirating sebagai kolom dan movieId yang belum dirating sebagai index\n",
    "    r_ur_corr_matt=corr_mat[rated.index].loc[unrated.index]\\\n",
    "                .apply(lambda x: x.nlargest(5), axis=1).fillna(0)#cari nilai similarity pada 10 item yang sudah \n",
    "\n",
    "    simlilarity_dot_weight=r_ur_corr_matt.apply(lambda x: sum(x*rated), axis=1)\n",
    "    simlilarity_sum=r_ur_corr_matt.apply(np.sum, axis=1)\n",
    "    pred=(simlilarity_dot_weight/simlilarity_sum).sort_values(ascending=False)\n",
    "    reccomendation=pd.concat([movies.set_index('MOVIEID'), pred], axis=1).sort_values(by=0, ascending=False)\n",
    "    movies=reccomendation[page * 8: page * 8 + 8]\n",
    "    images=movies['POSTER'].tolist()\n",
    "    return reccomendation\n",
    "\n",
    "#recommended().to_sql(\"rec\"+str(user), db, if_exists='replace')\n",
    "#rec=pd.read_sql_query('SELECT * FROM rec'+str(user),db)"
   ]
  },
  {
   "cell_type": "code",
   "execution_count": null,
   "metadata": {},
   "outputs": [],
   "source": [
    "import sqlite3\n",
    "import pandas as pd\n",
    "db = sqlite3.connect(\"E:/Test/flaskrr.sqlite\")"
   ]
  },
  {
   "cell_type": "code",
   "execution_count": null,
   "metadata": {},
   "outputs": [],
   "source": [
    "users=pd.read_sql_query('SELECT * from users',db)\n",
    "users=users.set_index('id')"
   ]
  },
  {
   "cell_type": "code",
   "execution_count": null,
   "metadata": {},
   "outputs": [],
   "source": [
    "from sqlalchemy import create_engine\n",
    "engine = create_engine('sqlite:///flaskrrr.sqlite', echo=False)"
   ]
  },
  {
   "cell_type": "code",
   "execution_count": null,
   "metadata": {},
   "outputs": [],
   "source": [
    "users.to_sql(\"users\", engine, schema=None, if_exists='replace', index=False)"
   ]
  },
  {
   "cell_type": "code",
   "execution_count": null,
   "metadata": {},
   "outputs": [],
   "source": [
    "ratings=pd.read_sql_query('SELECT * from ratings',db)\n",
    "movies=pd.read_sql_query('SELECT * from movies',db)"
   ]
  },
  {
   "cell_type": "code",
   "execution_count": null,
   "metadata": {},
   "outputs": [],
   "source": [
    "ratings.to_sql(\"ratings\", engine, schema=None, if_exists='replace')\n",
    "movies.to_sql(\"movies\", engine, schema=None, if_exists='replace')"
   ]
  },
  {
   "cell_type": "code",
   "execution_count": null,
   "metadata": {},
   "outputs": [],
   "source": [
    "import sqlite3\n",
    "db = sqlite3.connect(\"E:/Movie-Recommender-master/Item-Based Collaborative filtering fix/instance/flaskr.sqlite\")"
   ]
  },
  {
   "cell_type": "code",
   "execution_count": null,
   "metadata": {},
   "outputs": [],
   "source": [
    "import pandas as pd\n",
    "pd.read_sql_query('SELECT * FROM movies',db)"
   ]
  },
  {
   "cell_type": "code",
   "execution_count": null,
   "metadata": {},
   "outputs": [],
   "source": [
    "keyword = \"toy\"\n",
    "page = 1\n",
    "movies=db.execute('SELECT * FROM movies WHERE title like ? '\n",
    "                'LIMIT ? OFFSET ?',\n",
    "                ((\"%\"+keyword+\"%\"),'18', str((page - 1) * 18), )).fetchall()\n",
    "movies"
   ]
  },
  {
   "cell_type": "code",
   "execution_count": null,
   "metadata": {},
   "outputs": [],
   "source": []
  },
  {
   "cell_type": "code",
   "execution_count": null,
   "metadata": {},
   "outputs": [],
   "source": [
    "import sqlite3\n",
    "import pandas as pd\n",
    "db = sqlite3.connect(\"E:/Movie-Recommender-master/Item-Based Collaborative filtering fix/instance/flaskr.sqlite\")"
   ]
  },
  {
   "cell_type": "code",
   "execution_count": 87,
   "metadata": {},
   "outputs": [
    {
     "data": {
      "text/plain": [
       "'SELECT * FROM movies WHERE title LIKE \"%war%\"'"
      ]
     },
     "execution_count": 87,
     "metadata": {},
     "output_type": "execute_result"
    }
   ],
   "source": [
    "genres=[]\n",
    "movie_name=['war']\n",
    "query=['']\n",
    "for item in movie_name:\n",
    "    query.append('SELECT * FROM movies WHERE title LIKE '+'\"%'+item+'%\"')\n",
    "    if not genres:\n",
    "        query=\"\".join(query)\n",
    "    else:\n",
    "        for item in genres:\n",
    "            query.append(' AND genres LIKE '+'\"%'+item+'%\"')\n",
    "        query=\"\".join(query)\n",
    "query"
   ]
  },
  {
   "cell_type": "code",
   "execution_count": 88,
   "metadata": {},
   "outputs": [
    {
     "name": "stdout",
     "output_type": "stream",
     "text": [
      "SELECT * FROM movies WHERE title LIKE \"%war%\" LIMIT ? OFFSET ?\n"
     ]
    }
   ],
   "source": [
    "print(query+' LIMIT ? OFFSET ?',)"
   ]
  },
  {
   "cell_type": "code",
   "execution_count": 94,
   "metadata": {},
   "outputs": [
    {
     "data": {
      "text/plain": [
       "[(260,\n",
       "  'Star Wars: Episode IV - A New Hope (1977)',\n",
       "  'Action|Adventure|Sci-Fi',\n",
       "  'https://image.tmdb.org/t/p/w500/6FfCtAuVAW8XJjZ7eWeLibRLWTw.jpg'),\n",
       " (290,\n",
       "  'Once Were Warriors (1994)',\n",
       "  'Crime|Drama',\n",
       "  'https://image.tmdb.org/t/p/w500/1nd4SsytVc96hy92g8NNVPD3mzf.jpg'),\n",
       " (340,\n",
       "  'War, The (1994)',\n",
       "  'Adventure|Drama|War',\n",
       "  'https://image.tmdb.org/t/p/w500/eMJYqr5zs7rz54oZhiX4ez1BI5E.jpg'),\n",
       " (556,\n",
       "  'War Room, The (1993)',\n",
       "  'Documentary',\n",
       "  'https://image.tmdb.org/t/p/w500/prfxsyG4SnlnqqulavCJ4RksFUA.jpg'),\n",
       " (594,\n",
       "  'Snow White and the Seven Dwarfs (1937)',\n",
       "  'Animation|Children|Drama|Fantasy|Musical',\n",
       "  'https://image.tmdb.org/t/p/w500/1P9eGGlT7eV7kAAvvSh9jfygr1C.jpg'),\n",
       " (609,\n",
       "  'Homeward Bound II: Lost in San Francisco (1996)',\n",
       "  'Adventure|Children',\n",
       "  'https://image.tmdb.org/t/p/w500/kfYawa9SF9MQ3ae0TXAfhDLFGv7.jpg'),\n",
       " (722,\n",
       "  'Haunted World of Edward D. Wood Jr., The (1996)',\n",
       "  'Documentary',\n",
       "  'https://image.tmdb.org/t/p/w500/q1wbPToYRpXa827OCNqmT4lTnVF.jpg'),\n",
       " (766,\n",
       "  'I Shot Andy Warhol (1996)',\n",
       "  'Drama',\n",
       "  'https://image.tmdb.org/t/p/w500/eF4iTAjunicLQyc6AdF7JNwSBOC.jpg'),\n",
       " (1015,\n",
       "  'Homeward Bound: The Incredible Journey (1993)',\n",
       "  'Adventure|Children|Drama',\n",
       "  'https://image.tmdb.org/t/p/w500/el6dJEpK97OJRQiQhuiSGk2jkV5.jpg'),\n",
       " (1196,\n",
       "  'Star Wars: Episode V - The Empire Strikes Back (1980)',\n",
       "  'Action|Adventure|Sci-Fi',\n",
       "  'https://image.tmdb.org/t/p/w500/y8kozeXuFDRKGCBRJGfZY0KbGi1.jpg'),\n",
       " (1210,\n",
       "  'Star Wars: Episode VI - Return of the Jedi (1983)',\n",
       "  'Action|Adventure|Sci-Fi',\n",
       "  'https://image.tmdb.org/t/p/w500/q6ydU8r1iYyy2bV7tPVaq266Y1k.jpg'),\n",
       " (1329,\n",
       "  \"Blood for Dracula (Andy Warhol's Dracula) (1974)\",\n",
       "  'Horror',\n",
       "  'https://image.tmdb.org/t/p/w500/eDy608qwRLGcHL2eIvpMlR8GJfq.jpg'),\n",
       " (1398,\n",
       "  'In Love and War (1996)',\n",
       "  'Romance|War',\n",
       "  'https://image.tmdb.org/t/p/w500/dpGzMgYkbl6vvn7NBMp2CMVRbcu.jpg'),\n",
       " (1970,\n",
       "  'Nightmare on Elm Street 3: Dream Warriors, A (1987)',\n",
       "  'Horror|Thriller',\n",
       "  'https://image.tmdb.org/t/p/w500/qbtZewU6EGvxi8yFVzwZ31NijLX.jpg'),\n",
       " (2291,\n",
       "  'Edward Scissorhands (1990)',\n",
       "  'Drama|Fantasy|Romance',\n",
       "  'https://image.tmdb.org/t/p/w500/1RFIbuW9Z3eN9Oxw2KaQG5DfLmD.jpg'),\n",
       " (2450,\n",
       "  'Howard the Duck (1986)',\n",
       "  'Adventure|Comedy|Sci-Fi',\n",
       "  'https://image.tmdb.org/t/p/w500/csBulWjE442zMwu0lT0DiEcTWQK.jpg'),\n",
       " (2628,\n",
       "  'Star Wars: Episode I - The Phantom Menace (1999)',\n",
       "  'Action|Adventure|Sci-Fi',\n",
       "  'https://image.tmdb.org/t/p/w500/6wkfovpn7Eq8dYNKaG5PY3q2oq6.jpg'),\n",
       " (2662,\n",
       "  'War of the Worlds, The (1953)',\n",
       "  'Action|Drama|Sci-Fi',\n",
       "  'https://image.tmdb.org/t/p/w500/cpfPXIDKMWJEJSU2ji9PqVQm0w2.jpg')]"
      ]
     },
     "execution_count": 94,
     "metadata": {},
     "output_type": "execute_result"
    }
   ],
   "source": [
    "page=1\n",
    "filter=db.execute(query+' LIMIT ? OFFSET ?',('18', str((page - 1) * 18), )).fetchall()\n",
    "filter"
   ]
  },
  {
   "cell_type": "code",
   "execution_count": 34,
   "metadata": {},
   "outputs": [
    {
     "ename": "ProgrammingError",
     "evalue": "Incorrect number of bindings supplied. The current statement uses 2, and there are 1 supplied.",
     "output_type": "error",
     "traceback": [
      "\u001b[1;31m---------------------------------------------------------------------------\u001b[0m",
      "\u001b[1;31mProgrammingError\u001b[0m                          Traceback (most recent call last)",
      "\u001b[1;32m~\\AppData\\Local\\Temp/ipykernel_1712/645086008.py\u001b[0m in \u001b[0;36m<module>\u001b[1;34m\u001b[0m\n\u001b[1;32m----> 1\u001b[1;33m \u001b[0mdb\u001b[0m\u001b[1;33m.\u001b[0m\u001b[0mexecute\u001b[0m\u001b[1;33m(\u001b[0m\u001b[1;34m'SELECT * FROM movies WHERE genres like ? AND genres like ?'\u001b[0m\u001b[1;33m,\u001b[0m\u001b[1;33m(\u001b[0m\u001b[1;33m(\u001b[0m\u001b[1;34m\"%\"\u001b[0m\u001b[1;33m+\u001b[0m\u001b[0mgenres\u001b[0m\u001b[1;33m[\u001b[0m\u001b[1;36m0\u001b[0m\u001b[1;33m]\u001b[0m\u001b[1;33m+\u001b[0m\u001b[1;34m\"%\"\u001b[0m\u001b[1;33m)\u001b[0m\u001b[1;33m,\u001b[0m\u001b[1;33m)\u001b[0m\u001b[1;33m)\u001b[0m\u001b[1;33m.\u001b[0m\u001b[0mfetchall\u001b[0m\u001b[1;33m(\u001b[0m\u001b[1;33m)\u001b[0m\u001b[1;33m\u001b[0m\u001b[1;33m\u001b[0m\u001b[0m\n\u001b[0m",
      "\u001b[1;31mProgrammingError\u001b[0m: Incorrect number of bindings supplied. The current statement uses 2, and there are 1 supplied."
     ]
    }
   ],
   "source": [
    "db.execute('SELECT * FROM movies WHERE genres like ? AND genres like ?',((\"%\"+genres[0]+\"%\"),)).fetchall()\n"
   ]
  },
  {
   "cell_type": "code",
   "execution_count": null,
   "metadata": {},
   "outputs": [],
   "source": []
  }
 ],
 "metadata": {
  "interpreter": {
   "hash": "dd8a0eca17cf48f5766a881eb4023a5d930a398dd5e973b0565eb17605f3eea4"
  },
  "kernelspec": {
   "display_name": "Python 3.9.9 64-bit",
   "language": "python",
   "name": "python3"
  },
  "language_info": {
   "codemirror_mode": {
    "name": "ipython",
    "version": 3
   },
   "file_extension": ".py",
   "mimetype": "text/x-python",
   "name": "python",
   "nbconvert_exporter": "python",
   "pygments_lexer": "ipython3",
   "version": "3.9.9"
  },
  "orig_nbformat": 4
 },
 "nbformat": 4,
 "nbformat_minor": 2
}
