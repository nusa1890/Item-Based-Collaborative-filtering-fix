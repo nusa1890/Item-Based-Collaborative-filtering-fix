{
 "cells": [
  {
   "cell_type": "code",
   "execution_count": null,
   "metadata": {},
   "outputs": [],
   "source": [
    "from matplotlib import image\n",
    "from sklearn.decomposition import TruncatedSVD\n",
    "\n",
    "from scipy.sparse.linalg import svds\n",
    "import sqlite3\n",
    "import pandas as pd\n",
    "import numpy as np\n",
    "import requests\n",
    "user=2\n",
    "db = sqlite3.connect(\"E:/Test/flaskrr.sqlite\")\n",
    "def recommended():\n",
    "    page=1\n",
    "    #Ambil data ratings dari sqlite dengan querry \"SELECT * FROM review\" dan simpan ke pandas dataframe\n",
    "    ratings = pd.read_sql_query('SELECT userId, movieId, rating FROM ratings',db)\n",
    "    ratings.columns = ['USERID', 'MOVIEID', 'RATING']\n",
    "    #Ambil data movies dari sqlite dengan querry \"SELECT * FROM review\" dan simpan ke pandas dataframe\n",
    "    movies = pd.read_sql_query('SELECT * FROM movies', db)\n",
    "    movies.columns = ['MOVIEID', 'TITLE', 'GENRES', 'POSTER']\n",
    "\n",
    "    combined_movies_data = pd.merge(ratings, movies, how='inner', on='MOVIEID')#merge data rating dan data movie pada movieId\n",
    "    #Buat pivot table untuk rating menggunakan userId sebagai index dan movieId sebagai kolom\n",
    "    rating_crosstab = combined_movies_data.pivot_table(index='USERID', columns='MOVIEID', values='RATING').fillna(0)\n",
    "    #lakukan transpose dan dimesionality reduction dengan menggunakan fungsi SVD ke tabel pivot yang telah dibuat\n",
    "    X = rating_crosstab.T\n",
    "    SVD = TruncatedSVD(n_components=12, random_state=5)\n",
    "    resultant_matrix = SVD.fit_transform(X)\n",
    "\n",
    "    #cari korelasi antar film menggunakan pearson correlation menggunakan fungsi corrcoef pada library numpy\n",
    "    corr_mat = np.corrcoef(resultant_matrix)\n",
    "    corr_mat = pd.DataFrame(corr_mat, columns = rating_crosstab.columns.tolist(), index = rating_crosstab.columns.tolist())\n",
    "    #cari data user yang akan diberi rekomendasi berdasarkan rating film tertinggi yang diberikan \n",
    "    userId=user\n",
    "    unrated=X[userId].loc[X[userId]==0]\n",
    "    rated=X[userId].loc[X[userId]>0]\n",
    "    #buat pivot table dengan menggunakan movieId yang sudah dirating sebagai kolom dan movieId yang belum dirating sebagai index\n",
    "    r_ur_corr_matt=corr_mat[rated.index].loc[unrated.index]\\\n",
    "                .apply(lambda x: x.nlargest(5), axis=1).fillna(0)#cari nilai similarity pada 10 item yang sudah \n",
    "\n",
    "    simlilarity_dot_weight=r_ur_corr_matt.apply(lambda x: sum(x*rated), axis=1)\n",
    "    simlilarity_sum=r_ur_corr_matt.apply(np.sum, axis=1)\n",
    "    pred=(simlilarity_dot_weight/simlilarity_sum).sort_values(ascending=False)\n",
    "    reccomendation=pd.concat([movies.set_index('MOVIEID'), pred], axis=1).sort_values(by=0, ascending=False)\n",
    "    movies=reccomendation[page * 8: page * 8 + 8]\n",
    "    images=movies['POSTER'].tolist()\n",
    "    return reccomendation\n",
    "\n",
    "#recommended().to_sql(\"rec\"+str(user), db, if_exists='replace')\n",
    "#rec=pd.read_sql_query('SELECT * FROM rec'+str(user),db)"
   ]
  },
  {
   "cell_type": "code",
   "execution_count": null,
   "metadata": {},
   "outputs": [],
   "source": [
    "import sqlite3\n",
    "import pandas as pd\n",
    "db = sqlite3.connect(\"E:/Test/flaskrr.sqlite\")"
   ]
  },
  {
   "cell_type": "code",
   "execution_count": null,
   "metadata": {},
   "outputs": [],
   "source": [
    "users=pd.read_sql_query('SELECT * from users',db)\n",
    "users=users.set_index('id')"
   ]
  },
  {
   "cell_type": "code",
   "execution_count": null,
   "metadata": {},
   "outputs": [],
   "source": [
    "from sqlalchemy import create_engine\n",
    "engine = create_engine('sqlite:///flaskrrr.sqlite', echo=False)"
   ]
  },
  {
   "cell_type": "code",
   "execution_count": null,
   "metadata": {},
   "outputs": [],
   "source": [
    "users.to_sql(\"users\", engine, schema=None, if_exists='replace', index=False)"
   ]
  },
  {
   "cell_type": "code",
   "execution_count": null,
   "metadata": {},
   "outputs": [],
   "source": [
    "ratings=pd.read_sql_query('SELECT * from ratings',db)\n",
    "movies=pd.read_sql_query('SELECT * from movies',db)"
   ]
  },
  {
   "cell_type": "code",
   "execution_count": null,
   "metadata": {},
   "outputs": [],
   "source": [
    "ratings.to_sql(\"ratings\", engine, schema=None, if_exists='replace')\n",
    "movies.to_sql(\"movies\", engine, schema=None, if_exists='replace')"
   ]
  },
  {
   "cell_type": "code",
   "execution_count": null,
   "metadata": {},
   "outputs": [],
   "source": [
    "import sqlite3\n",
    "db = sqlite3.connect(\"E:/Movie-Recommender-master/Item-Based Collaborative filtering fix/instance/flaskr.sqlite\")"
   ]
  },
  {
   "cell_type": "code",
   "execution_count": null,
   "metadata": {},
   "outputs": [],
   "source": [
    "import pandas as pd\n",
    "pd.read_sql_query('SELECT * FROM movies',db)"
   ]
  },
  {
   "cell_type": "code",
   "execution_count": null,
   "metadata": {},
   "outputs": [],
   "source": [
    "keyword = \"toy\"\n",
    "page = 1\n",
    "movies=db.execute('SELECT * FROM movies WHERE title like ? '\n",
    "                'LIMIT ? OFFSET ?',\n",
    "                ((\"%\"+keyword+\"%\"),'18', str((page - 1) * 18), )).fetchall()\n",
    "movies"
   ]
  },
  {
   "cell_type": "code",
   "execution_count": null,
   "metadata": {},
   "outputs": [],
   "source": []
  },
  {
   "cell_type": "code",
   "execution_count": null,
   "metadata": {},
   "outputs": [],
   "source": [
    "import sqlite3\n",
    "import pandas as pd\n",
    "db = sqlite3.connect(\"E:/Movie-Recommender-master/Item-Based Collaborative filtering fix/instance/flaskr.sqlite\")"
   ]
  },
  {
   "cell_type": "code",
   "execution_count": null,
   "metadata": {},
   "outputs": [],
   "source": [
    "genres=['Action', 'Adventure']\n",
    "movie_name=['star wars']"
   ]
  },
  {
   "cell_type": "code",
   "execution_count": null,
   "metadata": {},
   "outputs": [],
   "source": [
    "movie_name[0]"
   ]
  },
  {
   "cell_type": "code",
   "execution_count": 41,
   "metadata": {},
   "outputs": [],
   "source": [
    "filter=pd.read_sql_query('SELECT * FROM movies WHERE title LIKE \"%goldeneye%\" AND genres LIKE \"%Action%\" AND genres LIKE \"%Adventure%\" AND genres LIKE \"%Thriller%\"',db)"
   ]
  },
  {
   "cell_type": "code",
   "execution_count": 34,
   "metadata": {},
   "outputs": [
    {
     "ename": "ProgrammingError",
     "evalue": "Incorrect number of bindings supplied. The current statement uses 2, and there are 1 supplied.",
     "output_type": "error",
     "traceback": [
      "\u001b[1;31m---------------------------------------------------------------------------\u001b[0m",
      "\u001b[1;31mProgrammingError\u001b[0m                          Traceback (most recent call last)",
      "\u001b[1;32m~\\AppData\\Local\\Temp/ipykernel_1712/645086008.py\u001b[0m in \u001b[0;36m<module>\u001b[1;34m\u001b[0m\n\u001b[1;32m----> 1\u001b[1;33m \u001b[0mdb\u001b[0m\u001b[1;33m.\u001b[0m\u001b[0mexecute\u001b[0m\u001b[1;33m(\u001b[0m\u001b[1;34m'SELECT * FROM movies WHERE genres like ? AND genres like ?'\u001b[0m\u001b[1;33m,\u001b[0m\u001b[1;33m(\u001b[0m\u001b[1;33m(\u001b[0m\u001b[1;34m\"%\"\u001b[0m\u001b[1;33m+\u001b[0m\u001b[0mgenres\u001b[0m\u001b[1;33m[\u001b[0m\u001b[1;36m0\u001b[0m\u001b[1;33m]\u001b[0m\u001b[1;33m+\u001b[0m\u001b[1;34m\"%\"\u001b[0m\u001b[1;33m)\u001b[0m\u001b[1;33m,\u001b[0m\u001b[1;33m)\u001b[0m\u001b[1;33m)\u001b[0m\u001b[1;33m.\u001b[0m\u001b[0mfetchall\u001b[0m\u001b[1;33m(\u001b[0m\u001b[1;33m)\u001b[0m\u001b[1;33m\u001b[0m\u001b[1;33m\u001b[0m\u001b[0m\n\u001b[0m",
      "\u001b[1;31mProgrammingError\u001b[0m: Incorrect number of bindings supplied. The current statement uses 2, and there are 1 supplied."
     ]
    }
   ],
   "source": [
    "db.execute('SELECT * FROM movies WHERE genres like ? AND genres like ?',((\"%\"+genres[0]+\"%\"),)).fetchall()\n"
   ]
  },
  {
   "cell_type": "code",
   "execution_count": null,
   "metadata": {},
   "outputs": [],
   "source": []
  }
 ],
 "metadata": {
  "interpreter": {
   "hash": "dd8a0eca17cf48f5766a881eb4023a5d930a398dd5e973b0565eb17605f3eea4"
  },
  "kernelspec": {
   "display_name": "Python 3.9.9 64-bit",
   "language": "python",
   "name": "python3"
  },
  "language_info": {
   "codemirror_mode": {
    "name": "ipython",
    "version": 3
   },
   "file_extension": ".py",
   "mimetype": "text/x-python",
   "name": "python",
   "nbconvert_exporter": "python",
   "pygments_lexer": "ipython3",
   "version": "3.9.9"
  },
  "orig_nbformat": 4
 },
 "nbformat": 4,
 "nbformat_minor": 2
}
